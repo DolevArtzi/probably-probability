{
 "cells": [
  {
   "cell_type": "code",
   "execution_count": 34,
   "metadata": {},
   "outputs": [
    {
     "name": "stderr",
     "output_type": "stream",
     "text": [
      "100%|██████████| 1/1 [00:08<00:00,  8.41s/it]"
     ]
    },
    {
     "name": "stdout",
     "output_type": "stream",
     "text": [
      "Average T of 100kth job: 1.1474890792742372\n",
      "Average N at 100kth job: 2.0\n",
      "λT: 2.2949781585484743\n",
      "[3.33687870e-01 2.22511872e-01 1.48108496e-01 9.86428466e-02\n",
      " 6.56991550e-02 4.38194819e-02 2.92778788e-02 1.95236237e-02\n",
      " 1.29644920e-02 8.60788579e-03 5.74717699e-03 3.83743807e-03\n",
      " 2.54560410e-03 1.71353868e-03 1.12332018e-03 7.37024399e-04\n",
      " 4.93176515e-04 3.22996431e-04 2.12972259e-04 1.40909610e-04\n",
      " 8.90515158e-05 5.47526893e-05 3.95361697e-05 2.72082362e-05\n",
      " 2.05113496e-05 1.32965384e-05 9.48424384e-06 7.20615370e-06\n",
      " 5.07698264e-06 4.39256000e-06 3.37744004e-06 2.79239574e-06\n",
      " 1.96867033e-06 1.53635617e-06 7.56470086e-07 2.35916046e-07\n",
      " 3.11280671e-07 1.30658032e-07 1.62616402e-08 5.40707959e-08\n",
      " 3.40056948e-07 1.40170761e-07 6.40552620e-08 0.00000000e+00\n",
      " 0.00000000e+00 0.00000000e+00 0.00000000e+00 0.00000000e+00\n",
      " 0.00000000e+00 0.00000000e+00]\n",
      "0.6668263712498211\n",
      "0.6656206481827986\n",
      "0.6660174736124542\n",
      "0.6660306075053252\n",
      "0.66697177354656\n",
      "0.6681475345847387\n",
      "0.6668387373706812\n",
      "0.6640412739283078\n",
      "0.6639585876787161\n",
      "0.6676641780403092\n",
      "0.6677083506404853\n",
      "0.6633603078306678\n",
      "0.6731363610735807\n",
      "0.6555557743041864\n",
      "0.6561124913181057\n",
      "0.6691454382775042\n",
      "0.6549306827662223\n",
      "0.6593641239094209\n",
      "0.6616336369615613\n",
      "0.6319761693574389\n",
      "0.6148428675451416\n",
      "0.7220863522156318\n",
      "0.6881859415696238\n",
      "0.7538654658424305\n",
      "0.6482527277402307\n",
      "0.7132866909355933\n",
      "0.7598026600785424\n",
      "0.7045343256395747\n",
      "0.8651910620812917\n",
      "0.7689001495795993\n",
      "0.826778776287053\n",
      "0.7050112216862852\n",
      "0.7804029652783258\n",
      "0.4923793729623839\n",
      "0.31186434183022677\n",
      "1.3194552761451435\n",
      "0.41974348032356695\n",
      "0.12445955202866028\n",
      "3.325051799951301\n",
      "6.289105646503081\n",
      "0.41219790300665\n",
      "0.45698019814110774\n",
      "0.0\n",
      "nan\n",
      "nan\n",
      "nan\n",
      "nan\n",
      "nan\n",
      "nan\n",
      "Average Ratio:0.8561290309407222\n",
      "Counts: [3.337980e+06 5.560891e+06 3.704221e+06 2.467321e+06 1.643251e+06\n",
      " 1.096850e+06 7.328240e+05 4.879380e+05 3.240240e+05 2.155300e+05\n",
      " 1.437690e+05 9.576100e+04 6.390100e+04 4.273900e+04 2.818900e+04\n",
      " 1.846900e+04 1.225000e+04 8.119000e+03 5.318000e+03 3.496000e+03\n",
      " 2.235000e+03 1.458000e+03 1.015000e+03 7.180000e+02 5.010000e+02\n",
      " 3.160000e+02 2.270000e+02 1.670000e+02 1.180000e+02 9.800000e+01\n",
      " 8.900000e+01 6.500000e+01 4.900000e+01 4.500000e+01 2.500000e+01\n",
      " 1.000000e+01 7.000000e+00 3.000000e+00 3.000000e+00 4.000000e+00\n",
      " 4.000000e+00 3.000000e+00 1.000000e+00 0.000000e+00 0.000000e+00\n",
      " 0.000000e+00 0.000000e+00 0.000000e+00 0.000000e+00 0.000000e+00]\n"
     ]
    },
    {
     "name": "stderr",
     "output_type": "stream",
     "text": [
      "\n",
      "/var/folders/cf/xxr0550s20j371tqcflz3qfc0000gn/T/ipykernel_74548/2396050643.py:82: RuntimeWarning: invalid value encountered in scalar divide\n",
      "  print(final[i+1]/final[i])\n",
      "/var/folders/cf/xxr0550s20j371tqcflz3qfc0000gn/T/ipykernel_74548/2396050643.py:83: RuntimeWarning: invalid value encountered in scalar divide\n",
      "  a = [final[i+1] / final[i] for i in range(len(final) - 1)]\n"
     ]
    }
   ],
   "source": [
    "\"\"\" Let's first code up k = 1\"\"\"\n",
    "from random import uniform\n",
    "from math import log\n",
    "from tqdm import tqdm\n",
    "#inter-arrival times I ~ Exp(λ)\n",
    "#λ, k, p_i\n",
    "λ = 2\n",
    "μ = 3\n",
    "def gen_arrival():\n",
    "    u = uniform(0,1)\n",
    "    return -(1/λ)*log(u)\n",
    "\n",
    "def gen_jobsize():\n",
    "    u = uniform(0,1)\n",
    "    return -(1/μ)*log(u)\n",
    "\n",
    "\n",
    "''' Making transition to dropping system now: 1 server'''\n",
    "def run():\n",
    "    pis = [0] * 50\n",
    "    counts = [0] * 50\n",
    "    t = 0\n",
    "    N = 0\n",
    "    t_complete = float('inf')\n",
    "    t_arrive = gen_arrival()\n",
    "    arrivals = 0\n",
    "    t_100k = 0\n",
    "    to_depart = 1\n",
    "    while True:\n",
    "        #job completes next\n",
    "        if t_complete < t_arrive:\n",
    "            t += t_complete\n",
    "            pis[N] += t_complete\n",
    "            counts[N] += 1\n",
    "            N -= 1\n",
    "            if t_100k:\n",
    "                to_depart -= 1\n",
    "            if t_100k and not to_depart:\n",
    "                # print(t,max(pis))\n",
    "                # print(t,sum(pis),t_100k)\n",
    "                return t-t_100k,N,[pi / (t) for pi in pis],counts\n",
    "            t_arrive -= t_complete\n",
    "            t_complete = gen_jobsize() if N > 0 else float('inf')\n",
    "        #job arrives next\n",
    "        else:\n",
    "            t += t_arrive\n",
    "            pis[N] += t_arrive\n",
    "            counts[N] += 1\n",
    "            N += 1\n",
    "            t_complete -= t_arrive\n",
    "            if N==1 and t_complete == float('inf'):\n",
    "                t_complete = gen_jobsize()\n",
    "            t_arrive = gen_arrival()\n",
    "            arrivals += 1\n",
    "            if arrivals == 10_000_000:\n",
    "                t_100k = t\n",
    "                to_depart = N\n",
    "                # print('hey',t,t_100k,N)\n",
    "ts,Ns = [],[]\n",
    "n = 1\n",
    "pi_true = []\n",
    "counts_true = []\n",
    "for _ in tqdm(range(n)):\n",
    "    T,Nf,pis,counts = run()\n",
    "    # print(f'T = {T}')\n",
    "    ts.append(T)\n",
    "    Ns.append(Nf)\n",
    "    pi_true.append(pis)\n",
    "    counts_true.append(counts)\n",
    "    # print(pis)\n",
    "avg_T, avg_N = sum(ts)/n, sum(Ns)/n\n",
    "print(f'Average T of 100kth job: {avg_T}')\n",
    "print(f'Average N at 100kth job: {avg_N}')\n",
    "print(f'λT: {λ * avg_T}')\n",
    "import numpy as np\n",
    "pis = np.array(pi_true)\n",
    "counts = np.array(counts_true)\n",
    "final = np.mean(pis,axis=0)\n",
    "final_counts = np.mean(counts,axis=0)\n",
    "print(final)\n",
    "for i in range(len(final) - 1):\n",
    "    print(final[i+1]/final[i])\n",
    "a = [final[i+1] / final[i] for i in range(len(final) - 1)]\n",
    "a = [x for x in a if x > 0]\n",
    "print(f'Average Ratio:{np.mean(a)}')\n",
    "print(f'Counts: {final_counts}')\n"
   ]
  },
  {
   "cell_type": "code",
   "execution_count": 37,
   "metadata": {},
   "outputs": [
    {
     "name": "stdout",
     "output_type": "stream",
     "text": [
      "[3337980.0, 5560891.0, 3704221.0, 2467321.0, 1643251.0, 1096850.0, 732824.0, 487938.0, 324024.0, 215530.0, 143769.0, 95761.0, 63901.0, 42739.0, 28189.0, 18469.0, 12250.0, 8119.0, 5318.0, 3496.0, 2235.0, 1458.0, 1015.0, 718.0, 501.0, 316.0, 227.0, 167.0, 118.0, 98.0, 89.0, 65.0, 49.0, 45.0, 25.0, 10.0, 7.0, 3.0, 3.0, 4.0, 4.0, 3.0, 1.0, 0.0, 0.0, 0.0, 0.0, 0.0, 0.0, 0.0]\n"
     ]
    }
   ],
   "source": [
    "print(list(final_counts))\n",
    "# print(final[-15:])"
   ]
  },
  {
   "cell_type": "code",
   "execution_count": 4,
   "metadata": {},
   "outputs": [],
   "source": [
    "import sys\n",
    "sys.path.append('../')  # Adjust the relative path accordingly\n",
    "\n",
    "from plot import Plot"
   ]
  },
  {
   "cell_type": "code",
   "execution_count": 39,
   "metadata": {},
   "outputs": [
    {
     "data": {
      "text/plain": [
       "<matplotlib.collections.PathCollection at 0x168e7b190>"
      ]
     },
     "execution_count": 39,
     "metadata": {},
     "output_type": "execute_result"
    },
    {
     "data": {
      "image/png": "[encoded data removed]",
      "text/plain": [
       "<Figure size 640x480 with 1 Axes>"
      ]
     },
     "metadata": {},
     "output_type": "display_data"
    }
   ],
   "source": [
    "P = Plot()\n",
    "from matplotlib import pyplot as plt\n",
    "ρ = λ/μ\n",
    "xs = list(range(len(final)))\n",
    "data1 = [(1/3) * (ρ ** i) for i in range(len(final))]\n",
    "plt.scatter(xs,data1,s=30)\n",
    "f = [x for x in final if x > 0]\n",
    "plt.scatter(list(range(len(f))),f,s=15)"
   ]
  },
  {
   "cell_type": "markdown",
   "metadata": {},
   "source": [
    "^ Blue: expected, Orange: observed"
   ]
  },
  {
   "cell_type": "code",
   "execution_count": 3,
   "metadata": {},
   "outputs": [
    {
     "name": "stdout",
     "output_type": "stream",
     "text": [
      "Defaulting to user installation because normal site-packages is not writeable\n",
      "Requirement already satisfied: sympy in /Users/dolevartzi/Library/Python/3.9/lib/python/site-packages (1.12)\n",
      "Collecting scipy\n",
      "  Downloading scipy-1.11.4-cp39-cp39-macosx_12_0_arm64.whl (29.7 MB)\n",
      "\u001b[2K     \u001b[90m━━━━━━━━━━━━━━━━━━━━━━━━━━━━━━━━━━━━━━━━\u001b[0m \u001b[32m29.7/29.7 MB\u001b[0m \u001b[31m31.8 MB/s\u001b[0m eta \u001b[36m0:00:00\u001b[0m00:01\u001b[0m00:01\u001b[0m\n",
      "\u001b[?25hRequirement already satisfied: mpmath>=0.19 in /Users/dolevartzi/Library/Python/3.9/lib/python/site-packages (from sympy) (1.3.0)\n",
      "Requirement already satisfied: numpy<1.28.0,>=1.21.6 in /Users/dolevartzi/Library/Python/3.9/lib/python/site-packages (from scipy) (1.25.2)\n",
      "Installing collected packages: scipy\n",
      "Successfully installed scipy-1.11.4\n",
      "\n",
      "\u001b[1m[\u001b[0m\u001b[34;49mnotice\u001b[0m\u001b[1;39;49m]\u001b[0m\u001b[39;49m A new release of pip is available: \u001b[0m\u001b[31;49m23.1.2\u001b[0m\u001b[39;49m -> \u001b[0m\u001b[32;49m23.3.1\u001b[0m\n",
      "\u001b[1m[\u001b[0m\u001b[34;49mnotice\u001b[0m\u001b[1;39;49m]\u001b[0m\u001b[39;49m To update, run: \u001b[0m\u001b[32;49m/Library/Developer/CommandLineTools/usr/bin/python3 -m pip install --upgrade pip\u001b[0m\n"
     ]
    }
   ],
   "source": [
    "!pip3 install sympy scipy"
   ]
  },
  {
   "cell_type": "code",
   "execution_count": 20,
   "metadata": {},
   "outputs": [
    {
     "ename": "ModuleNotFoundError",
     "evalue": "No module named 'Plot'",
     "output_type": "error",
     "traceback": [
      "\u001b[0;31m---------------------------------------------------------------------------\u001b[0m",
      "\u001b[0;31mModuleNotFoundError\u001b[0m                       Traceback (most recent call last)",
      "Cell \u001b[0;32mIn[20], line 1\u001b[0m\n\u001b[0;32m----> 1\u001b[0m \u001b[38;5;28;01mimport\u001b[39;00m \u001b[38;5;21;01mPlot\u001b[39;00m\n\u001b[1;32m      2\u001b[0m p \u001b[38;5;241m=\u001b[39m Plot()\n\u001b[1;32m      3\u001b[0m ρ \u001b[38;5;241m=\u001b[39m λ\u001b[38;5;241m/\u001b[39mμ\n",
      "\u001b[0;31mModuleNotFoundError\u001b[0m: No module named 'Plot'"
     ]
    }
   ],
   "source": [
    "\n",
    "p = Plot()\n",
    "ρ = λ/μ\n",
    "print(ρ)\n",
    "p.plotGeneric()"
   ]
  },
  {
   "cell_type": "code",
   "execution_count": 19,
   "metadata": {},
   "outputs": [
    {
     "name": "stdout",
     "output_type": "stream",
     "text": [
      "/Users/dolevartzi/PycharmProjects/probablyprobability/queueing\n"
     ]
    }
   ],
   "source": [
    "import os\n",
    "print(os.getcwd())"
   ]
  },
  {
   "cell_type": "code",
   "execution_count": 14,
   "metadata": {},
   "outputs": [],
   "source": [
    "ys2 = [(2/3)**(i+1) for i in range(50)]\n",
    "plt.show()"
   ]
  },
  {
   "cell_type": "code",
   "execution_count": 5,
   "metadata": {},
   "outputs": [
    {
     "data": {
      "text/plain": [
       "array([0.33343943, 0.22233761, 0.14818014, 0.09876589, 0.06583667])"
      ]
     },
     "execution_count": 5,
     "metadata": {},
     "output_type": "execute_result"
    }
   ],
   "source": [
    "final[:5]"
   ]
  },
  {
   "cell_type": "code",
   "execution_count": 52,
   "metadata": {},
   "outputs": [
    {
     "data": {
      "text/plain": [
       "0.7553316317993051"
      ]
     },
     "execution_count": 52,
     "metadata": {},
     "output_type": "execute_result"
    }
   ],
   "source": [
    "a = [x for x in a if x > 0]\n",
    "np.mean(a)"
   ]
  },
  {
   "cell_type": "code",
   "execution_count": null,
   "metadata": {},
   "outputs": [],
   "source": [
    "import numpy as np\n",
    "x = np.array([[1,2,3],[4,5,6]])\n",
    "np.mean(x,axis=0)"
   ]
  },
  {
   "cell_type": "markdown",
   "metadata": {},
   "source": [
    "##### Dropping System, $k$ servers, $k$ types of jobs\n",
    "- degenerate case: $k = 1$, $\\mu_1 = \\mu$\n",
    "    - dropping system\n",
    "    - we know from Problem 17.5 that $\\pi_n = \\frac{\\rho}{n} \\cdot C$\n",
    "        - can use as a sanity check"
   ]
  },
  {
   "cell_type": "code",
   "execution_count": null,
   "metadata": {},
   "outputs": [],
   "source": [
    "fun foo bar baz = "
   ]
  },
  {
   "cell_type": "code",
   "execution_count": null,
   "metadata": {},
   "outputs": [],
   "source": [
    "\"\"\" Let's first code up k = 1\"\"\"\n",
    "from random import uniform\n",
    "from math import log\n",
    "from tqdm import tqdm\n",
    "#inter-arrival times I ~ Exp(λ)\n",
    "#λ, k, p_i\n",
    "λ = 2\n",
    "μ = 3\n",
    "def gen_arrival():\n",
    "    u = uniform(0,1)\n",
    "    return -(1/λ)*log(u)\n",
    "\n",
    "def gen_jobsize():\n",
    "    u = uniform(0,1)\n",
    "    return -(1/μ)*log(u)\n",
    "\n",
    "\n",
    "''' Making transition to dropping system now: 1 server'''\n",
    "def run():\n",
    "    pis = [0] * 50\n",
    "    t = 0\n",
    "    N = 0\n",
    "    t_complete = float('inf')\n",
    "    t_arrive = gen_arrival()\n",
    "    arrivals = 0\n",
    "    t_100k = 0\n",
    "    to_depart = 1\n",
    "    while True:\n",
    "        #job completes next\n",
    "        if t_complete < t_arrive:\n",
    "            t += t_complete\n",
    "            pis[N] += t_complete\n",
    "            N -= 1\n",
    "            if t_100k:\n",
    "                to_depart -= 1\n",
    "            if t_100k and not to_depart:\n",
    "                # print(t,max(pis))\n",
    "                # print(t,sum(pis),t_100k)\n",
    "                return t-t_100k,N,[pi / (t) for pi in pis]\n",
    "            t_arrive -= t_complete\n",
    "            t_complete = gen_jobsize() if N > 0 else float('inf')\n",
    "        #job arrives next\n",
    "        else:\n",
    "            t += t_arrive\n",
    "            pis[N] += t_arrive\n",
    "            N += 1\n",
    "            t_complete -= t_arrive\n",
    "            if N==1 and t_complete == float('inf'):\n",
    "                t_complete = gen_jobsize()\n",
    "            t_arrive = gen_arrival()\n",
    "            arrivals += 1\n",
    "            if arrivals == 100_000:\n",
    "                t_100k = t\n",
    "                to_depart = N\n",
    "                # print('hey',t,t_100k,N)\n",
    "ts,Ns = [],[]\n",
    "n = 1000\n",
    "pi_true = []\n",
    "for _ in tqdm(range(n)):\n",
    "    T,Nf,pis = run()\n",
    "    # print(f'T = {T}')\n",
    "    ts.append(T)\n",
    "    Ns.append(Nf)\n",
    "    pi_true.append(pis)\n",
    "    # print(pis)\n",
    "avg_T, avg_N = sum(ts)/n, sum(Ns)/n\n",
    "print(f'Average T of 100kth job: {avg_T}')\n",
    "print(f'Average N at 100kth job: {avg_N}')\n",
    "print(f'λT: {λ * avg_T}')\n",
    "import numpy as np\n",
    "pis = np.array(pi_true)\n",
    "final = np.mean(pis,axis=0)\n",
    "print(final)\n",
    "for i in range(len(final) - 1):\n",
    "    print(final[i+1]/final[i])\n",
    "a = [final[i+1] / final[i] for i in range(len(final) - 1)]\n",
    "a = [x for x in a if x > 0]\n",
    "print(f'Average Ratio:{np.mean(a)}')\n"
   ]
  },
  {
   "cell_type": "code",
   "execution_count": 45,
   "metadata": {},
   "outputs": [
    {
     "name": "stdout",
     "output_type": "stream",
     "text": [
      "0 0\n",
      "1 1\n",
      "2 3\n",
      "3 6\n",
      "4 10\n",
      "5 15\n",
      "6 21\n",
      "7 28\n",
      "8 36\n",
      "9 45\n"
     ]
    }
   ],
   "source": []
  },
  {
   "cell_type": "code",
   "execution_count": null,
   "metadata": {},
   "outputs": [],
   "source": [
    "E[N] = Sum_(all Zs) (reduce sum* Z) pi_Z"
   ]
  },
  {
   "cell_type": "code",
   "execution_count": 49,
   "metadata": {},
   "outputs": [
    {
     "name": "stdout",
     "output_type": "stream",
     "text": [
      "5\n"
     ]
    },
    {
     "data": {
      "text/plain": [
       "(0, (0, 1))"
      ]
     },
     "execution_count": 49,
     "metadata": {},
     "output_type": "execute_result"
    }
   ],
   "source": [
    "from math import floor\n",
    "\n",
    "def N2(k):\n",
    "    n = k + 1 + sum([k * floor((k - i)/2) for i in range(0,k+1)])\n",
    "    print(n)\n",
    "N2(2)\n",
    "\n",
    "def N3(k):\n",
    "    n = N2(2) + sum([]  )\n",
    "\n",
    "#k = 1\n",
    "0\n",
    "1\n",
    "\n",
    "#k = 2\n",
    "0, (0,0)\n",
    "1, (0,0)\n",
    "\n",
    "#solo\n",
    "0, (1,0)\n",
    "0, (0,1)\n",
    "\n",
    "2, (0,0)\n",
    "\n",
    "\n",
    "\n",
    "#k = 3\n",
    "0, (0,0), (0,0,0)\n",
    "1, (0,0), (0,0,0)\n",
    "0, (1,0), (0,0,0)\n",
    "0, (0,1), (0,0,0)\n",
    "2, (0,0), (0,0,0)\n",
    "\n",
    "#3 new solo\n",
    "0, (0,0), (1,0,0)\n",
    "0, (0,0), (0,1,0)\n",
    "0, (0,0), (0,0,1)\n",
    "\n",
    "#2 new from n_1^1 = 1\n",
    "1, (1,0), (0,0,0)\n",
    "1, (0,1), (0,0,0)\n",
    "\n",
    "3, (0,0), (0,0,0)\n",
    "\n",
    "\n",
    "#k = 4\n",
    "0, (0,0), (0,0,0), (0,0,0,0)\n",
    "1, (0,0), (0,0,0), (0,0,0,0)\n",
    "2, (0,0), (0,0,0), (0,0,0,0)\n",
    "0, (1,0), (0,0,0), (0,0,0,0)\n",
    "0, (0,1), (0,0,0), (0,0,0,0)\n",
    "0, (0,0), (1,0,0), (0,0,0,0)\n",
    "0, (0,0), (0,1,0), (0,0,0,0)\n",
    "0, (0,0), (0,0,1), (0,0,0,0)\n",
    "3, (0,0), (0,0,0), (0,0,0,0)\n",
    "1, (1,0), (0,0,0), (0,0,0,0)\n",
    "1, (0,1), (0,0,0), (0,0,0,0)\n",
    "\n",
    "# 4 new solo \n",
    "0, (0,0), (0,0,0), (1,0,0,0)\n",
    "0, (0,0), (0,0,0), (0,1,0,0)\n",
    "0, (0,0), (0,0,0), (0,0,1,0)\n",
    "0, (0,0), (0,0,0), (0,0,0,1)\n",
    "\n",
    "# 3 new from n_1^1 = 1\n",
    "1, (0,0), (1,0,0), (0,0,0,0)\n",
    "1, (0,0), (0,1,0), (0,0,0,0)\n",
    "1, (0,0), (0,0,1), (0,0,0,0)\n",
    "\n",
    "# 3 new from 2's. \n",
    "0, (2,0), (0,0,0), (0,0,0,0)\n",
    "0, (1,1), (0,0,0), (0,0,0,0)\n",
    "0, (0,2), (0,0,0), (0,0,0,0)\n",
    "\n",
    "# 2 \n",
    "2, (1,0),     2,(0,1)\n",
    "\n",
    "4, (0,0), (0,0,0), (0,0,0,0)\n",
    "\n",
    "#k = 5\n",
    "0, (0,0), (0,0,0), (0,0,0,0), (0,0,0,0,0)\n",
    "1, (0,0), (0,0,0), (0,0,0,0), (0,0,0,0,0)\n",
    "2, (0,0), (0,0,0), (0,0,0,0), (0,0,0,0,0)\n",
    "0, (1,0), (0,0,0), (0,0,0,0), (0,0,0,0,0)\n",
    "0, (0,1), (0,0,0), (0,0,0,0), (0,0,0,0,0)\n",
    "0, (0,0), (1,0,0), (0,0,0,0), (0,0,0,0,0)\n",
    "0, (0,0), (0,1,0), (0,0,0,0), (0,0,0,0,0)\n",
    "0, (0,0), (0,0,1), (0,0,0,0), (0,0,0,0,0)\n",
    "3, (0,0), (0,0,0), (0,0,0,0), (0,0,0,0,0)\n",
    "1, (1,0), (0,0,0), (0,0,0,0), (0,0,0,0,0)\n",
    "1, (0,1), (0,0,0), (0,0,0,0), (0,0,0,0,0)\n",
    "0, (0,0), (0,0,0), (1,0,0,0), (0,0,0,0,0)\n",
    "0, (0,0), (0,0,0), (0,1,0,0), (0,0,0,0,0)\n",
    "0, (0,0), (0,0,0), (0,0,1,0), (0,0,0,0,0)\n",
    "0, (0,0), (0,0,0), (0,0,0,1), (0,0,0,0,0)\n",
    "1, (0,0), (1,0,0), (0,0,0,0), (0,0,0,0,0)\n",
    "1, (0,0), (0,1,0), (0,0,0,0), (0,0,0,0,0)\n",
    "1, (0,0), (0,0,1), (0,0,0,0), (0,0,0,0,0)\n",
    "0, (2,0), (0,0,0), (0,0,0,0), (0,0,0,0,0)\n",
    "0, (1,1), (0,0,0), (0,0,0,0), (0,0,0,0,0)\n",
    "0, (0,2), (0,0,0), (0,0,0,0), (0,0,0,0,0)\n",
    "4, (0,0), (0,0,0), (0,0,0,0), (0,0,0,0,0)\n",
    "\n",
    "#solo\n",
    "0, (0,0), (0,0,0), (0,0,0,0), (1,0,0,0,0)\n",
    "0, (0,0), (0,0,0), (0,0,0,0), (0,1,0,0,0)\n",
    "0, (0,0), (0,0,0), (0,0,0,0), (0,0,1,0,0)\n",
    "0, (0,0), (0,0,0), (0,0,0,0), (0,0,0,1,0)\n",
    "0, (0,0), (0,0,0), (0,0,0,0), (0,0,0,0,1)\n",
    "\n",
    "# 4 new from n_1^1 = 1\n",
    "1, (0,0), (0,0,0), (1,0,0,0), (0,0,0,0,0)\n",
    "1, (0,0), (0,0,0), (0,1,0,0), (0,0,0,0,0)\n",
    "1, (0,0), (0,0,0), (0,0,1,0), (0,0,0,0,0)\n",
    "1, (0,0), (0,0,0), (0,0,0,1), (0,0,0,0,0)\n",
    "\n",
    "#3 new from n_1^1 = 2 \n",
    "\n",
    "#2 new from n_1^1 = 3\n",
    "\n",
    "#6 new from n_2 = 1 and n_3 = 1\n",
    "\n",
    "#1 new from n_1 = 5\n",
    "\n",
    "\n",
    "\n",
    "N_1 = k + 1\n"
   ]
  },
  {
   "cell_type": "code",
   "execution_count": 53,
   "metadata": {},
   "outputs": [
    {
     "data": {
      "text/plain": [
       "[<matplotlib.lines.Line2D at 0x16829be20>]"
      ]
     },
     "execution_count": 53,
     "metadata": {},
     "output_type": "execute_result"
    },
    {
     "data": {
      "image/png": "[encoded data removed]",
      "text/plain": [
       "<Figure size 640x480 with 1 Axes>"
      ]
     },
     "metadata": {},
     "output_type": "display_data"
    }
   ],
   "source": [
    "from matplotlib import pyplot as plt\n",
    "plt.plot([1,2,3,4],[2,5,11,24])\n"
   ]
  },
  {
   "cell_type": "code",
   "execution_count": null,
   "metadata": {},
   "outputs": [],
   "source": [
    "k = 4"
   ]
  },
  {
   "cell_type": "code",
   "execution_count": null,
   "metadata": {},
   "outputs": [],
   "source": []
  },
  {
   "cell_type": "code",
   "execution_count": null,
   "metadata": {},
   "outputs": [],
   "source": []
  },
  {
   "cell_type": "markdown",
   "metadata": {},
   "source": [
    "![image](imgQ.png)"
   ]
  },
  {
   "cell_type": "markdown",
   "metadata": {},
   "source": []
  },
  {
   "cell_type": "code",
   "execution_count": 57,
   "metadata": {},
   "outputs": [
    {
     "name": "stdout",
     "output_type": "stream",
     "text": [
      "0\n"
     ]
    }
   ],
   "source": [
    "import math\n",
    "n = 4\n",
    "def coeff(p):\n",
    "    s = 0\n",
    "    for i in range(0,math.floor(n)):\n",
    "        if n - (n-1)*i > 0:\n",
    "            s += (-1)**i * math.comb(n - (n - 1) * i,i)\n",
    "    print(s)\n",
    "p = 4\n",
    "coeff(p)"
   ]
  },
  {
   "cell_type": "code",
   "execution_count": 59,
   "metadata": {},
   "outputs": [
    {
     "name": "stdout",
     "output_type": "stream",
     "text": [
      "Defaulting to user installation because normal site-packages is not writeable\n",
      "Requirement already satisfied: sympy in /Users/dolevartzi/Library/Python/3.9/lib/python/site-packages (1.12)\n",
      "Requirement already satisfied: mpmath>=0.19 in /Users/dolevartzi/Library/Python/3.9/lib/python/site-packages (from sympy) (1.3.0)\n",
      "\n",
      "\u001b[1m[\u001b[0m\u001b[34;49mnotice\u001b[0m\u001b[1;39;49m]\u001b[0m\u001b[39;49m A new release of pip is available: \u001b[0m\u001b[31;49m23.1.2\u001b[0m\u001b[39;49m -> \u001b[0m\u001b[32;49m23.3.1\u001b[0m\n",
      "\u001b[1m[\u001b[0m\u001b[34;49mnotice\u001b[0m\u001b[1;39;49m]\u001b[0m\u001b[39;49m To update, run: \u001b[0m\u001b[32;49m/Library/Developer/CommandLineTools/usr/bin/python3 -m pip install --upgrade pip\u001b[0m\n"
     ]
    }
   ],
   "source": [
    "!pip3 install sympy"
   ]
  },
  {
   "cell_type": "code",
   "execution_count": 67,
   "metadata": {},
   "outputs": [
    {
     "name": "stdout",
     "output_type": "stream",
     "text": [
      "set() 0\n"
     ]
    }
   ],
   "source": [
    "from sympy.solvers.diophantine import diophantine\n",
    "from sympy import symbols\n",
    "\n",
    "a, b, c = symbols ( 'a, b, c', Integer = True )\n",
    "x = diophantine ( a + 2*b + 3*c = 3 = 0)\n",
    "print(x,len(x))\n",
    "\n"
   ]
  },
  {
   "cell_type": "code",
   "execution_count": 71,
   "metadata": {},
   "outputs": [
    {
     "data": {
      "text/latex": [
       "$\\displaystyle \\left( t_{0}, \\  4 t_{0} + 3 t_{1} - 5, \\  - 3 t_{0} - 2 t_{1} + 5\\right)$"
      ],
      "text/plain": [
       "(t_0, 4*t_0 + 3*t_1 - 5, -3*t_0 - 2*t_1 + 5)"
      ]
     },
     "execution_count": 71,
     "metadata": {},
     "output_type": "execute_result"
    }
   ],
   "source": [
    "from sympy.solvers.diophantine.diophantine import diop_linear\n",
    "# from sympy.abc import x, y, z\n",
    "a, b, c = symbols ( 'a, b, c', Integer = True )\n",
    "diop_linear(a + 2*b + 3* c- 5) # solves equation 2*x - 3*y - 5 == 0"
   ]
  },
  {
   "cell_type": "code",
   "execution_count": 198,
   "metadata": {},
   "outputs": [
    {
     "name": "stdout",
     "output_type": "stream",
     "text": [
      "0 1 1\n",
      "1 2 2\n",
      "2 4 5\n",
      "3 7 11\n",
      "4 12 24\n",
      "5 19 48\n",
      "6 30 96\n",
      "7 45 182\n",
      "8 67 342\n",
      "9 97 624\n"
     ]
    },
    {
     "ename": "KeyboardInterrupt",
     "evalue": "",
     "output_type": "error",
     "traceback": [
      "\u001b[0;31m---------------------------------------------------------------------------\u001b[0m",
      "\u001b[0;31mKeyboardInterrupt\u001b[0m                         Traceback (most recent call last)",
      "Cell \u001b[0;32mIn[198], line 32\u001b[0m\n\u001b[1;32m     30\u001b[0m     \u001b[38;5;28mprint\u001b[39m(k,s,s1)\n\u001b[1;32m     31\u001b[0m \u001b[38;5;28;01mfor\u001b[39;00m i \u001b[38;5;129;01min\u001b[39;00m (\u001b[38;5;28mrange\u001b[39m(\u001b[38;5;241m0\u001b[39m,\u001b[38;5;241m13\u001b[39m)):\n\u001b[0;32m---> 32\u001b[0m     \u001b[43mN\u001b[49m\u001b[43m(\u001b[49m\u001b[43mi\u001b[49m\u001b[43m)\u001b[49m\n",
      "Cell \u001b[0;32mIn[198], line 19\u001b[0m, in \u001b[0;36mN\u001b[0;34m(k)\u001b[0m\n\u001b[1;32m     13\u001b[0m \u001b[38;5;28;01mfor\u001b[39;00m a8 \u001b[38;5;129;01min\u001b[39;00m \u001b[38;5;28mrange\u001b[39m(k\u001b[38;5;241m+\u001b[39m\u001b[38;5;241m1\u001b[39m):\n\u001b[1;32m     14\u001b[0m     \u001b[38;5;28;01mfor\u001b[39;00m a9 \u001b[38;5;129;01min\u001b[39;00m \u001b[38;5;28mrange\u001b[39m(k\u001b[38;5;241m+\u001b[39m\u001b[38;5;241m1\u001b[39m):\n\u001b[1;32m     15\u001b[0m         \u001b[38;5;66;03m# for a10 in range(k+1):\u001b[39;00m\n\u001b[1;32m     16\u001b[0m         \u001b[38;5;66;03m#     for a11 in range(k+1):\u001b[39;00m\n\u001b[1;32m     17\u001b[0m         \u001b[38;5;66;03m#         for a12 in range(k+1):\u001b[39;00m\n\u001b[1;32m     18\u001b[0m                     \u001b[38;5;66;03m# a10,a11,a12 = 0,0,0\u001b[39;00m\n\u001b[0;32m---> 19\u001b[0m                     \u001b[38;5;28;01mif\u001b[39;00m (a1 \u001b[38;5;241m+\u001b[39m \u001b[38;5;241m2\u001b[39m \u001b[38;5;241m*\u001b[39m a2 \u001b[38;5;241m+\u001b[39m \u001b[38;5;241m3\u001b[39m \u001b[38;5;241m*\u001b[39m a3 \u001b[38;5;241m+\u001b[39m \u001b[38;5;241m4\u001b[39m \u001b[38;5;241m*\u001b[39m a4 \u001b[38;5;241m+\u001b[39m \u001b[38;5;241m5\u001b[39m \u001b[38;5;241m*\u001b[39m a5 \u001b[38;5;241m+\u001b[39m \u001b[38;5;241m6\u001b[39m \u001b[38;5;241m*\u001b[39m a6 \u001b[38;5;241m+\u001b[39m \u001b[38;5;241m7\u001b[39m \u001b[38;5;241m*\u001b[39m a7 \u001b[38;5;241m+\u001b[39m \u001b[38;5;241m8\u001b[39m \u001b[38;5;241m*\u001b[39m a8 \u001b[38;5;241m+\u001b[39m \u001b[38;5;241;43m9\u001b[39;49m\u001b[43m \u001b[49m\u001b[38;5;241;43m*\u001b[39;49m\u001b[43m \u001b[49m\u001b[43ma9\u001b[49m) \u001b[38;5;241m<\u001b[39m\u001b[38;5;241m=\u001b[39m k \u001b[38;5;129;01mand\u001b[39;00m \u001b[38;5;241m0\u001b[39m \u001b[38;5;241m<\u001b[39m\u001b[38;5;241m=\u001b[39m a1 \u001b[38;5;241m<\u001b[39m\u001b[38;5;241m=\u001b[39m k \u001b[38;5;129;01mand\u001b[39;00m \u001b[38;5;241m0\u001b[39m \u001b[38;5;241m<\u001b[39m\u001b[38;5;241m=\u001b[39m a2 \u001b[38;5;241m<\u001b[39m\u001b[38;5;241m=\u001b[39m math\u001b[38;5;241m.\u001b[39mfloor(k \u001b[38;5;241m/\u001b[39m \u001b[38;5;241m2\u001b[39m) \u001b[38;5;129;01mand\u001b[39;00m \u001b[38;5;241m0\u001b[39m \u001b[38;5;241m<\u001b[39m\u001b[38;5;241m=\u001b[39m a3 \u001b[38;5;241m<\u001b[39m\u001b[38;5;241m=\u001b[39m math\u001b[38;5;241m.\u001b[39mfloor(k \u001b[38;5;241m/\u001b[39m \u001b[38;5;241m3\u001b[39m) \u001b[38;5;129;01mand\u001b[39;00m \u001b[38;5;241m0\u001b[39m \u001b[38;5;241m<\u001b[39m\u001b[38;5;241m=\u001b[39m a4 \u001b[38;5;241m<\u001b[39m\u001b[38;5;241m=\u001b[39m math\u001b[38;5;241m.\u001b[39mfloor(k \u001b[38;5;241m/\u001b[39m \u001b[38;5;241m4\u001b[39m) \u001b[38;5;129;01mand\u001b[39;00m \u001b[38;5;241m0\u001b[39m \u001b[38;5;241m<\u001b[39m\u001b[38;5;241m=\u001b[39m a5 \u001b[38;5;241m<\u001b[39m\u001b[38;5;241m=\u001b[39m math\u001b[38;5;241m.\u001b[39mfloor(k \u001b[38;5;241m/\u001b[39m \u001b[38;5;241m5\u001b[39m) \u001b[38;5;129;01mand\u001b[39;00m \u001b[38;5;241m0\u001b[39m \u001b[38;5;241m<\u001b[39m\u001b[38;5;241m=\u001b[39m a6 \u001b[38;5;241m<\u001b[39m\u001b[38;5;241m=\u001b[39m math\u001b[38;5;241m.\u001b[39mfloor(k \u001b[38;5;241m/\u001b[39m \u001b[38;5;241m6\u001b[39m) \u001b[38;5;129;01mand\u001b[39;00m \u001b[38;5;241m0\u001b[39m \u001b[38;5;241m<\u001b[39m\u001b[38;5;241m=\u001b[39m a7 \u001b[38;5;241m<\u001b[39m\u001b[38;5;241m=\u001b[39m math\u001b[38;5;241m.\u001b[39mfloor(k\u001b[38;5;241m/\u001b[39m\u001b[38;5;241m7\u001b[39m) \u001b[38;5;129;01mand\u001b[39;00m \u001b[38;5;241m0\u001b[39m \u001b[38;5;241m<\u001b[39m\u001b[38;5;241m=\u001b[39m a8 \u001b[38;5;241m<\u001b[39m\u001b[38;5;241m=\u001b[39m math\u001b[38;5;241m.\u001b[39mfloor(k \u001b[38;5;241m/\u001b[39m \u001b[38;5;241m8\u001b[39m) \u001b[38;5;129;01mand\u001b[39;00m \u001b[38;5;241m0\u001b[39m \u001b[38;5;241m<\u001b[39m\u001b[38;5;241m=\u001b[39m a9 \u001b[38;5;241m<\u001b[39m\u001b[38;5;241m=\u001b[39m math\u001b[38;5;241m.\u001b[39mfloor(k \u001b[38;5;241m/\u001b[39m \u001b[38;5;241m9\u001b[39m):\n\u001b[1;32m     20\u001b[0m                         s \u001b[38;5;241m+\u001b[39m\u001b[38;5;241m=\u001b[39m \u001b[38;5;241m1\u001b[39m\n\u001b[1;32m     21\u001b[0m                         _as \u001b[38;5;241m=\u001b[39m [\u001b[38;5;241m0\u001b[39m,a1,a2,a3,a4,a5,a6,a7,a8,a9]\n",
      "\u001b[0;31mKeyboardInterrupt\u001b[0m: "
     ]
    }
   ],
   "source": [
    "from tqdm import tqdm\n",
    "a__ = [1, 1, 2, 3, 5, 7, 11, 15, 22, 30]\n",
    "def N(k):\n",
    "    s = 0\n",
    "    s1 = 0\n",
    "    for a1 in range(k+1):\n",
    "        for a2 in range(k+1):\n",
    "            for a3 in range(k+1):\n",
    "                for a4 in range(k+1):\n",
    "                    for a5 in range(k+1):\n",
    "                        for a6 in range(k+1):\n",
    "                            for a7 in range(k+1):\n",
    "                                for a8 in range(k+1):\n",
    "                                    for a9 in range(k+1):\n",
    "                                        # for a10 in range(k+1):\n",
    "                                        #     for a11 in range(k+1):\n",
    "                                        #         for a12 in range(k+1):\n",
    "                                                    # a10,a11,a12 = 0,0,0\n",
    "                                                    if (a1 + 2 * a2 + 3 * a3 + 4 * a4 + 5 * a5 + 6 * a6 + 7 * a7 + 8 * a8 + 9 * a9) <= k and 0 <= a1 <= k and 0 <= a2 <= math.floor(k / 2) and 0 <= a3 <= math.floor(k / 3) and 0 <= a4 <= math.floor(k / 4) and 0 <= a5 <= math.floor(k / 5) and 0 <= a6 <= math.floor(k / 6) and 0 <= a7 <= math.floor(k/7) and 0 <= a8 <= math.floor(k / 8) and 0 <= a9 <= math.floor(k / 9):\n",
    "                                                        s += 1\n",
    "                                                        _as = [0,a1,a2,a3,a4,a5,a6,a7,a8,a9]\n",
    "                                                        m = {i:_as[i] for i in range(len(_as))}\n",
    "                                                        # pos = [i for i in range ]\n",
    "                                                        pos = [i for i in range(len(_as)) if i > 1 and _as[i] > 0]\n",
    "                                                        p = 1\n",
    "                                                        for i in pos:\n",
    "                                                            p *= math.comb(_as[i] + i - 1,i - 1)\n",
    "                                                        s1 += p\n",
    "                    \n",
    "    print(k,s,s1)\n",
    "for i in (range(0,13)):\n",
    "    N(i)"
   ]
  },
  {
   "cell_type": "code",
   "execution_count": 97,
   "metadata": {},
   "outputs": [
    {
     "data": {
      "text/plain": [
       "[<matplotlib.lines.Line2D at 0x1690882b0>]"
      ]
     },
     "execution_count": 97,
     "metadata": {},
     "output_type": "execute_result"
    },
    {
     "data": {
      "image/png": "[encoded data removed]",
      "text/plain": [
       "<Figure size 640x480 with 1 Axes>"
      ]
     },
     "metadata": {},
     "output_type": "display_data"
    }
   ],
   "source": [
    "xs = list(range(9))\n",
    "ys = [1,2,4,7,12,19,30,45,67]\n",
    "\n",
    "plt.plot(xs,ys)\n",
    "xs2 = []\n",
    "xs2.append(1)\n",
    "for i in range(1,9):\n",
    "    xs2.append(xs2[-1] + xs[-1] * i ** 2 / 20)\n",
    "plt.plot(xs,xs2)\n"
   ]
  },
  {
   "cell_type": "code",
   "execution_count": 96,
   "metadata": {},
   "outputs": [
    {
     "data": {
      "text/plain": [
       "[<matplotlib.lines.Line2D at 0x16906b5e0>]"
      ]
     },
     "execution_count": 96,
     "metadata": {},
     "output_type": "execute_result"
    },
    {
     "data": {
      "image/png": "[encoded data removed]",
      "text/plain": [
       "<Figure size 640x480 with 1 Axes>"
      ]
     },
     "metadata": {},
     "output_type": "display_data"
    }
   ],
   "source": [
    "plt.plot(xs,xs2)"
   ]
  },
  {
   "cell_type": "code",
   "execution_count": 98,
   "metadata": {},
   "outputs": [
    {
     "name": "stderr",
     "output_type": "stream",
     "text": [
      "  0%|          | 0/10000 [00:00<?, ?it/s]\n"
     ]
    },
    {
     "ename": "TypeError",
     "evalue": "run() missing 1 required positional argument: 'k'",
     "output_type": "error",
     "traceback": [
      "\u001b[0;31m---------------------------------------------------------------------------\u001b[0m",
      "\u001b[0;31mTypeError\u001b[0m                                 Traceback (most recent call last)",
      "Cell \u001b[0;32mIn[98], line 39\u001b[0m\n\u001b[1;32m     37\u001b[0m n \u001b[38;5;241m=\u001b[39m \u001b[38;5;241m10000\u001b[39m\n\u001b[1;32m     38\u001b[0m \u001b[38;5;28;01mfor\u001b[39;00m _ \u001b[38;5;129;01min\u001b[39;00m tqdm(\u001b[38;5;28mrange\u001b[39m(n)):\n\u001b[0;32m---> 39\u001b[0m     T,Nf \u001b[38;5;241m=\u001b[39m \u001b[43mrun\u001b[49m\u001b[43m(\u001b[49m\u001b[43m)\u001b[49m\n\u001b[1;32m     40\u001b[0m     ts\u001b[38;5;241m.\u001b[39mappend(T)\n\u001b[1;32m     41\u001b[0m     Ns\u001b[38;5;241m.\u001b[39mappend(Nf)\n",
      "\u001b[0;31mTypeError\u001b[0m: run() missing 1 required positional argument: 'k'"
     ]
    }
   ],
   "source": [
    "def run(k):\n",
    "    t = 0\n",
    "    N = 0\n",
    "    t_complete = float('inf')\n",
    "    t_arrive = gen_arrival()\n",
    "    arrivals = 0\n",
    "    t_100k = 0\n",
    "    to_depart = 1\n",
    "    D = []\n",
    "    for i in range(1,k+1):\n",
    "        D.append([0] * i)\n",
    "    while True:\n",
    "        #job completes next\n",
    "        if t_complete < t_arrive:\n",
    "            t += t_complete\n",
    "            N -= 1\n",
    "            if t_100k:\n",
    "                to_depart -= 1\n",
    "            if t_100k and not to_depart:\n",
    "                return t-t_100k,N\n",
    "            t_arrive -= t_complete\n",
    "            t_complete = gen_jobsize() if N > 0 else float('inf')\n",
    "        #job arrives next\n",
    "        else:\n",
    "            t += t_arrive\n",
    "            N += 1\n",
    "            t_complete -= t_arrive\n",
    "            if N==1 and t_complete == float('inf'):\n",
    "                t_complete = gen_jobsize()\n",
    "            t_arrive = gen_arrival()\n",
    "            arrivals += 1\n",
    "            if arrivals == 100_000:\n",
    "                t_100k = t\n",
    "                to_depart = N\n",
    "import multiprocessing\n",
    "ts,Ns = [],[]\n",
    "n = 10000\n",
    "for _ in tqdm(range(n)):\n",
    "    T,Nf = run()\n",
    "    ts.append(T)\n",
    "    Ns.append(Nf)\n",
    "avg_T, avg_N = sum(ts)/n, sum(Ns)/n\n",
    "print(f'Average T of 100kth job: {avg_T}')\n",
    "print(f'Average N at 100kth job: {avg_N}')\n",
    "print(f'λT: {λ * avg_T}')"
   ]
  },
  {
   "cell_type": "code",
   "execution_count": 103,
   "metadata": {},
   "outputs": [
    {
     "data": {
      "text/plain": [
       "[[0], [0, 0], [0, 0, 0]]"
      ]
     },
     "execution_count": 103,
     "metadata": {},
     "output_type": "execute_result"
    }
   ],
   "source": [
    "D = []\n",
    "k = 3\n",
    "for i in range(1,k+1):\n",
    "    D.append([0] * i)\n",
    "D"
   ]
  },
  {
   "cell_type": "code",
   "execution_count": 102,
   "metadata": {},
   "outputs": [
    {
     "data": {
      "text/plain": [
       "[[0], [2, 0], [0, 0, 0]]"
      ]
     },
     "execution_count": 102,
     "metadata": {},
     "output_type": "execute_result"
    }
   ],
   "source": [
    "D[1][0] += 1\n",
    "D"
   ]
  },
  {
   "cell_type": "code",
   "execution_count": 138,
   "metadata": {},
   "outputs": [
    {
     "name": "stdout",
     "output_type": "stream",
     "text": [
      "1 1\n",
      "2 2\n",
      "3 3\n",
      "4 5\n",
      "5 7\n",
      "6 11\n",
      "7 15\n",
      "8 22\n"
     ]
    }
   ],
   "source": [
    "ys = [1,2,4,7,12,19,30,45,67]\n",
    "def solve_diophantine(target, k):\n",
    "    dp = [[0] * (k + 1) for _ in range(target + 1)]\n",
    "\n",
    "    # Base case: there is one way to achieve a sum of 0 for any k (no terms used)\n",
    "    for j in range(1, k + 1):\n",
    "        dp[0][j] = 1\n",
    "\n",
    "    for i in range(1, target + 1):\n",
    "        for j in range(1, k + 1):\n",
    "            dp[i][j] = dp[i][j - 1]\n",
    "            if i - j >= 0:\n",
    "                dp[i][j] += dp[i - j][j]\n",
    "    # print(dp[target-1][k])\n",
    "    return dp[target][k]# + dp[target-1][k]\n",
    "\n",
    "# Example usage:\n",
    "for n in range(1,9):\n",
    "    target_sum = n\n",
    "    num_terms = n\n",
    "    result = solve_diophantine(target_sum, num_terms)\n",
    "    print(n,result)"
   ]
  },
  {
   "cell_type": "code",
   "execution_count": 168,
   "metadata": {},
   "outputs": [
    {
     "data": {
      "text/plain": [
       "' 1 2 4 7 12 19 30 45 67 97 139 195 272 373 508 684 915 1212 1597 2087 2714 3506 4508 5763 7338 9296 11732 14742 18460 23025'"
      ]
     },
     "execution_count": 168,
     "metadata": {},
     "output_type": "execute_result"
    }
   ],
   "source": [
    "def solve_diophantine(target, k):\n",
    "    dp = [[0] * (k + 1) for _ in range(target + 1)]\n",
    "\n",
    "    # Base case: there is one way to achieve a sum of 0 for any k (no terms used)\n",
    "    for j in range(1, k + 1):\n",
    "        dp[0][j] = 1\n",
    "\n",
    "    for i in range(1, target + 1):\n",
    "        for j in range(1, k + 1):\n",
    "            dp[i][j] = dp[i][j - 1]\n",
    "            if i - j >= 0:\n",
    "                dp[i][j] += dp[i - j][j]\n",
    "\n",
    "    return dp[target][k]\n",
    "\n",
    "n0 = 1\n",
    "n_new = 0\n",
    "stri = ''\n",
    "rstri = ''\n",
    "for n in range(0,30):\n",
    "    target_sum = n\n",
    "    num_terms = n\n",
    "    result = solve_diophantine(target_sum, num_terms)\n",
    "    n_new = result + n0\n",
    "    n0 = n_new\n",
    "    str(n_new)\n",
    "    rstri = rstri + ' ' + str(result)\n",
    "    stri = stri + ' ' + str(n_new)\n",
    "stri"
   ]
  },
  {
   "cell_type": "code",
   "execution_count": 169,
   "metadata": {},
   "outputs": [
    {
     "data": {
      "text/plain": [
       "' 0 1 2 3 5 7 11 15 22 30 42 56 77 101 135 176 231 297 385 490 627 792 1002 1255 1575 1958 2436 3010 3718 4565'"
      ]
     },
     "execution_count": 169,
     "metadata": {},
     "output_type": "execute_result"
    }
   ],
   "source": [
    "rstri"
   ]
  },
  {
   "cell_type": "code",
   "execution_count": 180,
   "metadata": {},
   "outputs": [
    {
     "data": {
      "image/png": "[encoded data removed]",
      "text/plain": [
       "<Figure size 640x480 with 1 Axes>"
      ]
     },
     "metadata": {},
     "output_type": "display_data"
    }
   ],
   "source": [
    "xs = list(range(30))\n",
    "\n",
    "n0 = 1\n",
    "n_new = 0\n",
    "ys = [n0]\n",
    "for n in range(1,30):\n",
    "    target_sum = n\n",
    "    num_terms = n\n",
    "    result = solve_diophantine(target_sum, num_terms)\n",
    "    n_new = result + n0\n",
    "    n0 = n_new\n",
    "    # print(n,n_new)\n",
    "    ys.append(n_new)\n",
    "\n",
    "# plt.plot(xs,ys)\n",
    "plt.semilogy(xs,ys)\n",
    "plt.show()\n",
    "# plt.semilogy(xs,ys)\n",
    "# xs2 = []\n",
    "# xs2.append(1)\n",
    "# for i in range(1,30):\n",
    "#     xs2.append(xs2[-1] + xs[-1] * i ** 2 / 25)\n",
    "# plt.plot(xs,xs2)\n"
   ]
  },
  {
   "cell_type": "code",
   "execution_count": 157,
   "metadata": {},
   "outputs": [
    {
     "data": {
      "text/plain": [
       "[<matplotlib.lines.Line2D at 0x16ae51670>]"
      ]
     },
     "execution_count": 157,
     "metadata": {},
     "output_type": "execute_result"
    },
    {
     "data": {
      "image/png": "[encoded data removed]",
      "text/plain": [
       "<Figure size 640x480 with 1 Axes>"
      ]
     },
     "metadata": {},
     "output_type": "display_data"
    }
   ],
   "source": [
    "plt.plot(xs,ys)\n"
   ]
  },
  {
   "cell_type": "code",
   "execution_count": 181,
   "metadata": {},
   "outputs": [
    {
     "name": "stdout",
     "output_type": "stream",
     "text": [
      "A70 = 1, A41 = 1 Z = 0  y_new = 1\n",
      "A70 = 2, A41 = 1 Z = 1  y_new = 2\n",
      "A70 = 4, A41 = 2 Z = 2  y_new = 4\n",
      "A70 = 7, A41 = 3 Z = 4  y_new = 7\n",
      "A70 = 12, A41 = 5 Z = 7  y_new = 12\n",
      "A70 = 19, A41 = 7 Z = 12  y_new = 19\n",
      "A70 = 30, A41 = 11 Z = 19  y_new = 30\n",
      "A70 = 45, A41 = 15 Z = 30  y_new = 45\n",
      "A70 = 67, A41 = 22 Z = 45  y_new = 67\n",
      "A70 = 97, A41 = 30 Z = 67  y_new = 97\n",
      "A70 = 139, A41 = 42 Z = 97  y_new = 139\n",
      "A70 = 195, A41 = 56 Z = 139  y_new = 195\n",
      "A70 = 272, A41 = 77 Z = 195  y_new = 272\n",
      "A70 = 373, A41 = 101 Z = 272  y_new = 373\n",
      "A70 = 508, A41 = 135 Z = 373  y_new = 508\n",
      "A70 = 684, A41 = 176 Z = 508  y_new = 684\n",
      "A70 = 915, A41 = 231 Z = 684  y_new = 915\n",
      "A70 = 1212, A41 = 297 Z = 915  y_new = 1212\n",
      "A70 = 1597, A41 = 385 Z = 1212  y_new = 1597\n",
      "A70 = 2087, A41 = 490 Z = 1597  y_new = 2087\n",
      "A70 = 2714, A41 = 627 Z = 2087  y_new = 2714\n",
      "A70 = 3506, A41 = 792 Z = 2714  y_new = 3506\n",
      "A70 = 4508, A41 = 1002 Z = 3506  y_new = 4508\n",
      "A70 = 5763, A41 = 1255 Z = 4508  y_new = 5763\n",
      "A70 = 7338, A41 = 1575 Z = 5763  y_new = 7338\n",
      "A70 = 9296, A41 = 1958 Z = 7338  y_new = 9296\n",
      "A70 = 11732, A41 = 2436 Z = 9296  y_new = 11732\n",
      "A70 = 14742, A41 = 3010 Z = 11732  y_new = 14742\n",
      "A70 = 18460, A41 = 3718 Z = 14742  y_new = 18460\n",
      "A70 = 23025, A41 = 4565 Z = 18460  y_new = 23025\n"
     ]
    }
   ],
   "source": [
    "def getSeq(s):\n",
    "    f = s\n",
    "    f = f.split(', ')\n",
    "    f = [int(x) for x in f]\n",
    "    return f\n",
    "\n",
    "a70seq = '''1, 2, 4, 7, 12, 19, 30, 45, 67, 97, 139, 195, 272, 373, 508, 684, 915, 1212, 1597, 2087, 2714, 3506, 4508, 5763, 7338, 9296, 11732, 14742, 18460, 23025, 28629, 35471, 43820, 53963, 66273, 81156, 99133, 120770, 146785, 177970, 215308, 259891, 313065, 376326, 451501'''\n",
    "A70 = getSeq(a70seq)\n",
    "a41seq = '''1, 1, 2, 3, 5, 7, 11, 15, 22, 30, 42, 56, 77, 101, 135, 176, 231, 297, 385, 490, 627, 792, 1002, 1255, 1575, 1958, 2436, 3010, 3718, 4565, 5604, 6842, 8349, 10143, 12310, 14883, 17977, 21637, 26015, 31185, 37338, 44583, 53174, 63261, 75175, 89134, 105558, 124754'''\n",
    "A41 = getSeq(a41seq)\n",
    "Z = [A70[i] - A41[i] for i in range(30)]\n",
    "for i in range(30):\n",
    "    print(f'A70 = {A70[i]}, A41 = {A41[i]} Z = {Z[i]}  y_new = {ys[i]}')\n"
   ]
  },
  {
   "cell_type": "code",
   "execution_count": 186,
   "metadata": {},
   "outputs": [
    {
     "data": {
      "text/plain": [
       "[1, 1, 2, 3, 5, 7, 11, 15, 22, 30]"
      ]
     },
     "execution_count": 186,
     "metadata": {},
     "output_type": "execute_result"
    }
   ],
   "source": [
    "A41[:10]"
   ]
  }
 ],
 "metadata": {
  "kernelspec": {
   "display_name": "Python 3.9.6 64-bit",
   "language": "python",
   "name": "python3"
  },
  "language_info": {
   "codemirror_mode": {
    "name": "ipython",
    "version": 3
   },
   "file_extension": ".py",
   "mimetype": "text/x-python",
   "name": "python",
   "nbconvert_exporter": "python",
   "pygments_lexer": "ipython3",
   "version": "3.9.6"
  },
  "orig_nbformat": 4,
  "vscode": {
   "interpreter": {
    "hash": "31f2aee4e71d21fbe5cf8b01ff0e069b9275f58929596ceb00d14d90e3e16cd6"
   }
  }
 },
 "nbformat": 4,
 "nbformat_minor": 2
}
