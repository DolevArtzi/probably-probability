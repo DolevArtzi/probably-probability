{
 "cells": [
  {
   "cell_type": "code",
   "execution_count": 1,
   "metadata": {},
   "outputs": [
    {
     "name": "stderr",
     "output_type": "stream",
     "text": [
      "100%|██████████| 1000/1000 [00:07<00:00, 126.51it/s]\n"
     ]
    },
    {
     "name": "stdout",
     "output_type": "stream",
     "text": [
      "Average T of 100kth job: 0.9739293095645608\n",
      "Average N at 100kth job: 1.971\n",
      "λT: 1.9478586191291216\n",
      "[3.33673787e-01 2.22311386e-01 1.48118651e-01 9.88003705e-02\n",
      " 6.58432283e-02 4.38110820e-02 2.91733538e-02 1.94032623e-02\n",
      " 1.29212282e-02 8.64380661e-03 5.75447630e-03 3.85863648e-03\n",
      " 2.54097326e-03 1.70179935e-03 1.14316221e-03 7.69767777e-04\n",
      " 5.11121572e-04 3.53344442e-04 2.41773352e-04 1.47644566e-04\n",
      " 9.43395867e-05 6.50418094e-05 4.17481365e-05 2.73222057e-05\n",
      " 1.87307841e-05 1.20811779e-05 7.83675789e-06 3.90464901e-06\n",
      " 3.07728533e-06 1.68766275e-06 7.35202970e-07 4.34533935e-07\n",
      " 2.05815426e-07 0.00000000e+00 0.00000000e+00 0.00000000e+00\n",
      " 0.00000000e+00 0.00000000e+00 0.00000000e+00 0.00000000e+00\n",
      " 0.00000000e+00 0.00000000e+00 0.00000000e+00 0.00000000e+00\n",
      " 0.00000000e+00 0.00000000e+00 0.00000000e+00 0.00000000e+00\n",
      " 0.00000000e+00 0.00000000e+00]\n",
      "0.6662536724962312\n",
      "0.6662665991929172\n",
      "0.667035311723484\n",
      "0.6664269371901974\n",
      "0.6653847799389679\n",
      "0.6658898280520826\n",
      "0.6651022158237719\n",
      "0.6659307086836586\n",
      "0.6689616863071897\n",
      "0.6657340400079648\n",
      "0.6705452042316803\n",
      "0.6585158435716779\n",
      "0.66974311502403\n",
      "0.6717373691349278\n",
      "0.6733670574465465\n",
      "0.6639945026134989\n",
      "0.6913119335621086\n",
      "0.6842426898235543\n",
      "0.6106734485823718\n",
      "0.6389641624636635\n",
      "0.6894434425375723\n",
      "0.6418661600573413\n",
      "0.6544533003527987\n",
      "0.6855516828724356\n",
      "0.6449905064500552\n",
      "0.6486749835128468\n",
      "0.4982480081557276\n",
      "0.7881080530264966\n",
      "0.5484258277212025\n",
      "0.4356338190664125\n",
      "0.5910394164919555\n",
      "0.47364638213385774\n",
      "0.0\n",
      "nan\n",
      "nan\n",
      "nan\n",
      "nan\n",
      "nan\n",
      "nan\n",
      "nan\n",
      "nan\n",
      "nan\n",
      "nan\n",
      "nan\n",
      "nan\n",
      "nan\n",
      "nan\n",
      "nan\n",
      "nan\n",
      "Average Ratio:0.6644954479256292\n"
     ]
    },
    {
     "name": "stderr",
     "output_type": "stream",
     "text": [
      "/var/folders/cf/xxr0550s20j371tqcflz3qfc0000gn/T/ipykernel_73689/2310049998.py:72: RuntimeWarning: invalid value encountered in scalar divide\n",
      "  print(final[i+1]/final[i])\n"
     ]
    }
   ],
   "source": [
    "\"\"\" Let's first code up k = 1\"\"\"\n",
    "from random import uniform\n",
    "from math import log\n",
    "from tqdm import tqdm\n",
    "#inter-arrival times I ~ Exp(λ)\n",
    "#λ, k, p_i\n",
    "λ = 2\n",
    "μ = 3\n",
    "def gen_arrival():\n",
    "    u = uniform(0,1)\n",
    "    return -(1/λ)*log(u)\n",
    "\n",
    "def gen_jobsize():\n",
    "    u = uniform(0,1)\n",
    "    return -(1/μ)*log(u)\n",
    "def run():\n",
    "    pis = [0] * 50\n",
    "    t = 0\n",
    "    N = 0\n",
    "    t_complete = float('inf')\n",
    "    t_arrive = gen_arrival()\n",
    "    arrivals = 0\n",
    "    t_100k = 0\n",
    "    to_depart = 1\n",
    "    while True:\n",
    "        #job completes next\n",
    "        if t_complete < t_arrive:\n",
    "            t += t_complete\n",
    "            pis[N] += t_complete\n",
    "            N -= 1\n",
    "            if t_100k:\n",
    "                to_depart -= 1\n",
    "            if t_100k and not to_depart:\n",
    "                # print(t,max(pis))\n",
    "                # print(t,sum(pis),t_100k)\n",
    "                return t-t_100k,N,[pi / (t) for pi in pis]\n",
    "            t_arrive -= t_complete\n",
    "            t_complete = gen_jobsize() if N > 0 else float('inf')\n",
    "        #job arrives next\n",
    "        else:\n",
    "            t += t_arrive\n",
    "            pis[N] += t_arrive\n",
    "            N += 1\n",
    "            t_complete -= t_arrive\n",
    "            if N==1 and t_complete == float('inf'):\n",
    "                t_complete = gen_jobsize()\n",
    "            t_arrive = gen_arrival()\n",
    "            arrivals += 1\n",
    "            if arrivals == 10_000:\n",
    "                t_100k = t\n",
    "                to_depart = N\n",
    "                # print('hey',t,t_100k,N)\n",
    "ts,Ns = [],[]\n",
    "n = 1000\n",
    "pi_true = []\n",
    "for _ in tqdm(range(n)):\n",
    "    T,Nf,pis = run()\n",
    "    # print(f'T = {T}')\n",
    "    ts.append(T)\n",
    "    Ns.append(Nf)\n",
    "    pi_true.append(pis)\n",
    "    # print(pis)\n",
    "avg_T, avg_N = sum(ts)/n, sum(Ns)/n\n",
    "print(f'Average T of 100kth job: {avg_T}')\n",
    "print(f'Average N at 100kth job: {avg_N}')\n",
    "print(f'λT: {λ * avg_T}')\n",
    "import numpy as np\n",
    "pis = np.array(pi_true)\n",
    "final = np.mean(pis,axis=0)\n",
    "print(final)\n",
    "for i in range(len(final) - 1):\n",
    "    print(final[i+1]/final[i])\n",
    "a = [final[i+1] / final[i] for i in range(len(final) - 1)]\n",
    "a = [x for x in a if x > 0]\n",
    "print(f'Average Ratio:{np.mean(a)}')\n"
   ]
  },
  {
   "cell_type": "code",
   "execution_count": 54,
   "metadata": {},
   "outputs": [
    {
     "data": {
      "text/plain": [
       "[0.6719640769392963,\n",
       " 0.6719769548330066,\n",
       " 0.6607072181044116,\n",
       " 0.6601544843842211,\n",
       " 0.6675028772452779,\n",
       " 0.669184925824438,\n",
       " 0.6771087555830905,\n",
       " 0.7043121818253215,\n",
       " 0.675439601932177,\n",
       " 0.6524836487382693,\n",
       " 0.7062166134872386,\n",
       " 0.6735643317274388,\n",
       " 0.6037443745303799,\n",
       " 0.6897689751994155,\n",
       " 0.7068241033114553,\n",
       " 0.7015486779877639,\n",
       " 0.6572922471692847,\n",
       " 0.7099086933052602,\n",
       " 0.6322967008468372,\n",
       " 0.6234790174256254,\n",
       " 0.7145406281079815,\n",
       " 1.5146865288506544,\n",
       " 0.7400327255538,\n",
       " 0.6067455216493474,\n",
       " 0.5090111681349591]"
      ]
     },
     "execution_count": 54,
     "metadata": {},
     "output_type": "execute_result"
    }
   ],
   "source": [
    "f = final[12:38]\n",
    "\n",
    "a = [f[i+1] / f[i] for i in range(len(f) - 1)]\n",
    "a\n"
   ]
  },
  {
   "cell_type": "code",
   "execution_count": 52,
   "metadata": {},
   "outputs": [
    {
     "data": {
      "text/plain": [
       "0.7553316317993051"
      ]
     },
     "execution_count": 52,
     "metadata": {},
     "output_type": "execute_result"
    }
   ],
   "source": [
    "a = [x for x in a if x > 0]\n",
    "np.mean(a)"
   ]
  },
  {
   "cell_type": "code",
   "execution_count": null,
   "metadata": {},
   "outputs": [],
   "source": [
    "import numpy as np\n",
    "x = np.array([[1,2,3],[4,5,6]])\n",
    "np.mean(x,axis=0)"
   ]
  },
  {
   "cell_type": "markdown",
   "metadata": {},
   "source": [
    "##### Dropping System, $k$ servers, $k$ types of jobs\n",
    "- degenerate case: $k = 1$, $\\mu_1 = \\mu$\n",
    "    - dropping system\n",
    "    - we know from Problem 17.5 that $\\pi_n = \\frac{\\rho}{n} \\cdot C$\n",
    "        - can use as a sanity check"
   ]
  },
  {
   "cell_type": "code",
   "execution_count": null,
   "metadata": {},
   "outputs": [],
   "source": [
    "fun foo bar baz = "
   ]
  }
 ],
 "metadata": {
  "kernelspec": {
   "display_name": "Python 3.9.6 64-bit",
   "language": "python",
   "name": "python3"
  },
  "language_info": {
   "codemirror_mode": {
    "name": "ipython",
    "version": 3
   },
   "file_extension": ".py",
   "mimetype": "text/x-python",
   "name": "python",
   "nbconvert_exporter": "python",
   "pygments_lexer": "ipython3",
   "version": "3.9.6"
  },
  "orig_nbformat": 4,
  "vscode": {
   "interpreter": {
    "hash": "31f2aee4e71d21fbe5cf8b01ff0e069b9275f58929596ceb00d14d90e3e16cd6"
   }
  }
 },
 "nbformat": 4,
 "nbformat_minor": 2
}
