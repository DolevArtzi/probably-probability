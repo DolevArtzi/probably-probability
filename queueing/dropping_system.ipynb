{
 "cells": [
  {
   "cell_type": "code",
   "execution_count": 38,
   "metadata": {},
   "outputs": [
    {
     "name": "stderr",
     "output_type": "stream",
     "text": [
      "100%|██████████| 50/50 [00:38<00:00,  1.31it/s]"
     ]
    },
    {
     "name": "stdout",
     "output_type": "stream",
     "text": [
      "Average T of 100kth job: 1.1165228058304637\n",
      "Average N at 100kth job: 2.38\n",
      "λT: 2.2330456116609274\n",
      "[1.33315756e-01 4.22435131e-01 1.48135941e-01 9.87312596e-02\n",
      " 6.57883329e-02 4.38815524e-02 2.92516722e-02 1.94831042e-02\n",
      " 1.30013945e-02 8.68281182e-03 5.76273341e-03 3.85135001e-03\n",
      " 2.56366879e-03 1.70325123e-03 1.12655495e-03 7.49728237e-04\n",
      " 5.03781604e-04 3.38596096e-04 2.28477115e-04 1.53637321e-04\n",
      " 1.04243341e-04 7.07477203e-05 4.45034741e-05 3.08507092e-05\n",
      " 1.99424200e-05 1.30647923e-05 8.95916328e-06 5.89981163e-06\n",
      " 3.77938203e-06 2.37587828e-06 1.63204874e-06 1.47054672e-06\n",
      " 8.61566540e-07 5.91601947e-07 5.25219925e-07 2.82612651e-07\n",
      " 2.20283718e-07 3.67213973e-07 1.71405303e-07 1.48040480e-07\n",
      " 1.00418670e-07 8.30257355e-08 6.16216875e-08 2.06534245e-08\n",
      " 7.98248303e-09 0.00000000e+00 0.00000000e+00 0.00000000e+00\n",
      " 0.00000000e+00 0.00000000e+00]\n",
      "3.168681208109207\n",
      "0.3506714518480538\n",
      "0.6664909219618277\n",
      "0.6663374204581609\n",
      "0.6670111620886991\n",
      "0.666605227384885\n",
      "0.6660509557372682\n",
      "0.6673163770382652\n",
      "0.6678369623594176\n",
      "0.6636943798339637\n",
      "0.668320003024571\n",
      "0.6656545847680357\n",
      "0.6643803725785218\n",
      "0.6614144368487179\n",
      "0.6655052521959326\n",
      "0.6719522877598026\n",
      "0.6721088936727863\n",
      "0.6747777576233516\n",
      "0.6724407422492197\n",
      "0.6785027281521773\n",
      "0.6786785566422074\n",
      "0.6290446383280452\n",
      "0.6932202451083124\n",
      "0.6464169060097701\n",
      "0.6551257218289224\n",
      "0.6857486189366114\n",
      "0.6585226143979622\n",
      "0.6405936781847779\n",
      "0.6286419997725226\n",
      "0.6869243904471924\n",
      "0.9010433831992457\n",
      "0.5858817884073457\n",
      "0.6866584528896936\n",
      "0.8877927587602392\n",
      "0.5380844061202705\n",
      "0.779454553599226\n",
      "1.667004608818597\n",
      "0.4667722779356945\n",
      "0.8636866954072181\n",
      "0.6783189992499989\n",
      "0.8267958091885117\n",
      "0.7421998388893472\n",
      "0.33516486417654856\n",
      "0.38649682656652695\n",
      "0.0\n",
      "nan\n",
      "nan\n",
      "nan\n",
      "nan\n",
      "Average Ratio:nan\n"
     ]
    },
    {
     "name": "stderr",
     "output_type": "stream",
     "text": [
      "\n",
      "/var/folders/cf/xxr0550s20j371tqcflz3qfc0000gn/T/ipykernel_69939/437588349.py:70: RuntimeWarning: invalid value encountered in scalar divide\n",
      "  print(final[i+1]/final[i])\n",
      "/var/folders/cf/xxr0550s20j371tqcflz3qfc0000gn/T/ipykernel_69939/437588349.py:71: RuntimeWarning: invalid value encountered in scalar divide\n",
      "  a = [final[i+1] / final[i] for i in range(len(final) - 1)]\n"
     ]
    }
   ],
   "source": [
    "\"\"\" Let's first code up k = 1\"\"\"\n",
    "from random import uniform\n",
    "from math import log\n",
    "from tqdm import tqdm\n",
    "#inter-arrival times I ~ Exp(λ)\n",
    "#λ, k, p_i\n",
    "λ = 2\n",
    "μ = 3\n",
    "def gen_arrival():\n",
    "    u = uniform(0,1)\n",
    "    return -(1/λ)*log(u)\n",
    "\n",
    "def gen_jobsize():\n",
    "    u = uniform(0,1)\n",
    "    return -(1/μ)*log(u)\n",
    "def run():\n",
    "    pis = [0] * 50\n",
    "    t = 0\n",
    "    N = 0\n",
    "    t_complete = float('inf')\n",
    "    t_arrive = gen_arrival()\n",
    "    arrivals = 0\n",
    "    t_100k = 0\n",
    "    to_depart = 1\n",
    "    while True:\n",
    "        #job completes next\n",
    "        if t_complete < t_arrive:\n",
    "            t += t_complete\n",
    "            N -= 1\n",
    "            if t_100k:\n",
    "                to_depart -= 1\n",
    "            if t_100k and not to_depart:\n",
    "                # print(t,max(pis))\n",
    "                return t-t_100k,N,[pi / (t) for pi in pis]\n",
    "            t_arrive -= t_complete\n",
    "            pis[N] += t_complete\n",
    "            t_complete = gen_jobsize() if N > 0 else float('inf')\n",
    "        #job arrives next\n",
    "        else:\n",
    "            t += t_arrive\n",
    "            N += 1\n",
    "            pis[N] += t_arrive\n",
    "            t_complete -= t_arrive\n",
    "            if N==1 and t_complete == float('inf'):\n",
    "                t_complete = gen_jobsize()\n",
    "            t_arrive = gen_arrival()\n",
    "            arrivals += 1\n",
    "            if arrivals == 1_000_000:\n",
    "                t_100k = t\n",
    "                to_depart = N\n",
    "ts,Ns = [],[]\n",
    "n = 50\n",
    "pi_true = []\n",
    "for _ in tqdm(range(n)):\n",
    "    T,Nf,pis = run()\n",
    "    # print(f'T = {T}')\n",
    "    ts.append(T)\n",
    "    Ns.append(Nf)\n",
    "    pi_true.append(pis)\n",
    "    # print(pis)\n",
    "avg_T, avg_N = sum(ts)/n, sum(Ns)/n\n",
    "print(f'Average T of 100kth job: {avg_T}')\n",
    "print(f'Average N at 100kth job: {avg_N}')\n",
    "print(f'λT: {λ * avg_T}')\n",
    "import numpy as np\n",
    "pis = np.array(pi_true)\n",
    "final = np.mean(pis,axis=0)\n",
    "print(final)\n",
    "for i in range(len(final) - 1):\n",
    "    print(final[i+1]/final[i])\n",
    "a = [final[i+1] / final[i] for i in range(len(final) - 1)]\n",
    "a = [x for x in a if x != 'nan']\n",
    "print(f'Average Ratio:{np.mean(a)}')\n"
   ]
  },
  {
   "cell_type": "code",
   "execution_count": 39,
   "metadata": {},
   "outputs": [
    {
     "data": {
      "text/plain": [
       "0.7385005854217649"
      ]
     },
     "execution_count": 39,
     "metadata": {},
     "output_type": "execute_result"
    }
   ],
   "source": [
    "a = [x for x in a if x > 0]\n",
    "np.mean(a)"
   ]
  },
  {
   "cell_type": "code",
   "execution_count": 9,
   "metadata": {},
   "outputs": [
    {
     "data": {
      "text/plain": [
       "array([2.5, 3.5, 4.5])"
      ]
     },
     "execution_count": 9,
     "metadata": {},
     "output_type": "execute_result"
    }
   ],
   "source": [
    "import numpy as np\n",
    "x = np.array([[1,2,3],[4,5,6]])\n",
    "np.mean(x,axis=0)"
   ]
  },
  {
   "cell_type": "markdown",
   "metadata": {},
   "source": [
    "##### Dropping System, $k$ servers, $k$ types of jobs\n",
    "- degenerate case: $k = 1$, $\\mu_1 = \\mu$\n",
    "    - dropping system\n",
    "    - we know from Problem 17.5 that $\\pi_n = \\frac{\\rho}{n} \\cdot C$\n",
    "        - can use as a sanity check"
   ]
  }
 ],
 "metadata": {
  "kernelspec": {
   "display_name": "Python 3.9.6 64-bit",
   "language": "python",
   "name": "python3"
  },
  "language_info": {
   "codemirror_mode": {
    "name": "ipython",
    "version": 3
   },
   "file_extension": ".py",
   "mimetype": "text/x-python",
   "name": "python",
   "nbconvert_exporter": "python",
   "pygments_lexer": "ipython3",
   "version": "3.9.6"
  },
  "orig_nbformat": 4,
  "vscode": {
   "interpreter": {
    "hash": "31f2aee4e71d21fbe5cf8b01ff0e069b9275f58929596ceb00d14d90e3e16cd6"
   }
  }
 },
 "nbformat": 4,
 "nbformat_minor": 2
}
