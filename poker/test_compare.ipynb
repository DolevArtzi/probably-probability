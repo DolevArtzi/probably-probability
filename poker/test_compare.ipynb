{
 "cells": [
  {
   "cell_type": "code",
   "execution_count": 1,
   "metadata": {},
   "outputs": [],
   "source": [
    "from eval import Eval\n",
    "\n",
    "e = Eval()\n",
    "LESS = 0\n",
    "EQUAL = 1\n",
    "GREATER = 2\n",
    "ord = {0:'LESS',1:'EQUAL',2:'GREATER'}"
   ]
  },
  {
   "cell_type": "code",
   "execution_count": 2,
   "metadata": {},
   "outputs": [],
   "source": [
    "def test(h1,h2,expected,o='all'):\n",
    "    res = e._compareWithPrecedence(h1,h2,o)\n",
    "    if res == expected:\n",
    "        s = ord[expected]\n",
    "        print(\"\\x1b[32mSuccess\\x1b[0m\")\n",
    "    else:\n",
    "        print(\"\\x1b[31m\\fFail\\x1b[0m\")\n",
    "        print(f'Expected: {ord[expected]}, Got: {ord[res]}')\n",
    "    \n",
    "def test2(h1,h2,f,expected,score=None):\n",
    "    res = f(h1,h2,score) if score else f(h1,h2)\n",
    "    if res == expected:\n",
    "        s = ord[expected]\n",
    "        print(\"\\x1b[32mSuccess\\x1b[0m\")\n",
    "    else:\n",
    "        print(\"\\x1b[31m\\fFail\\x1b[0m\")\n",
    "        print(f'Expected: {ord[expected]}, Got: {ord[res]}')\n",
    "\n",
    "def test3(h1,h2,expected,score):\n",
    "    res = e._compareHands(h1,h2,score)\n",
    "    if res == expected:\n",
    "        s = ord[expected]\n",
    "        print(\"\\x1b[32mSuccess\\x1b[0m\")\n",
    "    else:\n",
    "        print(\"\\x1b[31m\\fFail\\x1b[0m\")\n",
    "        print(f'Expected: {ord[expected]}, Got: {ord[res]}')\n",
    "\n",
    "# def test_eval(h1,expected):\n",
    "#     res = e._getHandScore(h1)\n",
    "#     if res == expected:\n",
    "#         print(\"\\x1b[32mSuccess\\x1b[0m\")\n",
    "#     else:\n",
    "#         print(f'Expected: {expected}, Got: {res}')\n",
    "    "
   ]
  },
  {
   "cell_type": "code",
   "execution_count": 3,
   "metadata": {},
   "outputs": [
    {
     "name": "stdout",
     "output_type": "stream",
     "text": [
      "\u001b[32mSuccess\u001b[0m\n",
      "\u001b[32mSuccess\u001b[0m\n",
      "\u001b[32mSuccess\u001b[0m\n",
      "\u001b[32mSuccess\u001b[0m\n",
      "\u001b[32mSuccess\u001b[0m\n",
      "\u001b[32mSuccess\u001b[0m\n",
      "\u001b[32mSuccess\u001b[0m\n",
      "\u001b[32mSuccess\u001b[0m\n"
     ]
    }
   ],
   "source": [
    "# HIGH CARD\n",
    "h1 = [4,5,6,7,9]\n",
    "h2 = [4,5,6,7,11]\n",
    "\n",
    "test(h1,h2,LESS)\n",
    "test3(h1,h2,LESS,0)\n",
    "h1[-1] = 11\n",
    "test(h1,h2,EQUAL)\n",
    "test3(h1,h2,EQUAL,0)\n",
    "\n",
    "h1 = [4,5,6,8,9]\n",
    "h2 = [4,5,7,8,9]\n",
    "test(h2,h1,GREATER)\n",
    "test3(h2,h1,GREATER,0)\n",
    "\n",
    "h1 = [0,1,2,3,5]\n",
    "h2 = [6,1,2,3,5]\n",
    "test(h1,h2,GREATER)\n",
    "test3(h1,h2,GREATER,0)\n",
    "# test_eval(h1,0)\n",
    "# test_eval(h2,0)\n"
   ]
  },
  {
   "cell_type": "code",
   "execution_count": 4,
   "metadata": {},
   "outputs": [
    {
     "name": "stdout",
     "output_type": "stream",
     "text": [
      "[4, 4, 2, 3, 9] [4, 4, 2, 3, 6] a\n",
      "\u001b[32mSuccess\u001b[0m\n",
      "[4, 4, 2, 3, 9] [4, 4, 2, 3, 6] b\n",
      "\u001b[32mSuccess\u001b[0m\n",
      "\u001b[32mSuccess\u001b[0m\n",
      "\u001b[32mSuccess\u001b[0m\n",
      "\u001b[32mSuccess\u001b[0m\n",
      "\u001b[32mSuccess\u001b[0m\n",
      "\u001b[32mSuccess\u001b[0m\n",
      "\u001b[32mSuccess\u001b[0m\n",
      "\u001b[32mSuccess\u001b[0m\n",
      "\u001b[32mSuccess\u001b[0m\n"
     ]
    }
   ],
   "source": [
    "# PAIR\n",
    "h1 = [4,4, 2,3,9]\n",
    "h2 = [4,4, 2,3,6]\n",
    "print(h1,h2,'a')\n",
    "test(h1[:],h2[:],GREATER,o=([(4,2)],[(4,2)]))\n",
    "print(h1,h2,'b')\n",
    "test3(h1,h2,GREATER,1)\n",
    "\n",
    "h1 = [10,10, 7,8,9]\n",
    "h2 = [9,9, 12,11,10]\n",
    "test(h1[:],h2[:],GREATER,o=([(10,2)],[(9,2)]))\n",
    "test3(h1,h2,GREATER,1)\n",
    "\n",
    "h2 = [10,10, 7,8,9]\n",
    "test(h1[:],h2[:],EQUAL,o=([(10,2)],[(10,2)]))\n",
    "test3(h1,h2,EQUAL,1)\n",
    "\n",
    "\n",
    "h1 = [2,2,0,12,1]\n",
    "h2 = [0,0,4,5,6]\n",
    "test(h1[:],h2[:],LESS,o=([(2,2)],[(0,2)]))\n",
    "test3(h1,h2,LESS,1)\n",
    "\n",
    "h1 = [4,4, 2, 3, 9]\n",
    "h2 = [4,4, 3, 4, 10]\n",
    "test(h1[:],h2[:],LESS,o=([(4,2)],[(4,2)]))\n",
    "test3(h1,h2,LESS,1)"
   ]
  },
  {
   "cell_type": "code",
   "execution_count": 5,
   "metadata": {},
   "outputs": [
    {
     "name": "stdout",
     "output_type": "stream",
     "text": [
      "\u001b[32mSuccess\u001b[0m\n",
      "\u001b[32mSuccess\u001b[0m\n",
      "\u001b[32mSuccess\u001b[0m\n",
      "\u001b[32mSuccess\u001b[0m\n",
      "\u001b[32mSuccess\u001b[0m\n",
      "\u001b[32mSuccess\u001b[0m\n",
      "\u001b[32mSuccess\u001b[0m\n",
      "\u001b[32mSuccess\u001b[0m\n",
      "\u001b[32mSuccess\u001b[0m\n",
      "\u001b[32mSuccess\u001b[0m\n",
      "\u001b[32mSuccess\u001b[0m\n"
     ]
    }
   ],
   "source": [
    "# TWO PAIR\n",
    "h1 = [5,5,6,6,8]\n",
    "h2 = [5,5,6,6,7]\n",
    "test(h1[:],h2[:],GREATER,o=([(5,2),(6,2)],[(5,2),(6,2)]))\n",
    "test3(h1,h2,GREATER,2)\n",
    "\n",
    "h1 = [8,8,7,7,6]\n",
    "h2 = [8,8,9,9,6]\n",
    "test(h1[:],h2[:],LESS,o=([(8,2),(7,2)],[(8,2),(9,2)]))\n",
    "test(h1[:],h2[:],LESS,o=([(8,2),(7,2)],[(9,2),(8,2)]))\n",
    "test3(h1,h2,LESS,2)\n",
    "\n",
    "h1 = [8,8,7,7,10]\n",
    "h2 = [8,8,9,9,6]\n",
    "test(h1[:],h2[:],LESS,o=([(8,2),(7,2)],[(9,2),(8,2)]))\n",
    "test3(h1,h2,LESS,2)\n",
    "\n",
    "\n",
    "h1 = [3,3,10,10,5]\n",
    "h2 = [5,5,9,9,11]\n",
    "#test(h1,h2,GREATER,o=([(3,2),(10,2)],[(5,2),(9,2)])) #wont pass, but if it goes through _compareSeq, it should swap the order of the tuples in order, which should make it pass\n",
    "test(h1[:],h2[:],GREATER,o=([(10,2),(3,2)],[(9,2),(5,2)]))\n",
    "test3(h1,h2,GREATER,2)\n",
    "\n",
    "#e.g. \n",
    "e._compareSeq(h1[:],h2[:],2) #should be 2\n",
    "test2(h1[:],h2[:],e._compareSeq,GREATER,2)\n",
    "test3(h1,h2,GREATER,2)"
   ]
  },
  {
   "cell_type": "code",
   "execution_count": 6,
   "metadata": {},
   "outputs": [
    {
     "name": "stdout",
     "output_type": "stream",
     "text": [
      "\u001b[32mSuccess\u001b[0m\n"
     ]
    }
   ],
   "source": [
    "h1 = [8, 7, 7, 10, 4]\n",
    "h2 = [1, 8, 7, 7, 10]\n",
    "test3(h1[:],h2[:],GREATER,1)\n"
   ]
  },
  {
   "cell_type": "code",
   "execution_count": 7,
   "metadata": {},
   "outputs": [
    {
     "name": "stdout",
     "output_type": "stream",
     "text": [
      "\u001b[32mSuccess\u001b[0m\n",
      "\u001b[32mSuccess\u001b[0m\n",
      "\u001b[32mSuccess\u001b[0m\n"
     ]
    }
   ],
   "source": [
    "# SET\n",
    "h1 = [4,4,4,2,3]\n",
    "h2 = [4,4,4,2,9]\n",
    "test(h1,h2,LESS,o=([(4,3)],[(4,3)]))\n",
    "\n",
    "h1 = [4,4,4,2,3]\n",
    "h2 = [10,3,3,8,3]\n",
    "test(h1,h2,GREATER,o=([(4,3)],[(3,3)]))\n",
    "\n",
    "h1 = [0,0,0,10,2]\n",
    "h2 = [0,0,0,11,12]\n",
    "test(h1,h2,LESS,o=([(0,3)],[(0,3)]))"
   ]
  },
  {
   "cell_type": "code",
   "execution_count": 8,
   "metadata": {},
   "outputs": [
    {
     "name": "stdout",
     "output_type": "stream",
     "text": [
      "\u001b[32mSuccess\u001b[0m\n",
      "\u001b[32mSuccess\u001b[0m\n",
      "\u001b[32mSuccess\u001b[0m\n"
     ]
    }
   ],
   "source": [
    "# STRAIGHT\n",
    "h1 = [4,5,6,7,8]\n",
    "h2 = [5,6,7,8,9]\n",
    "test2(h1,h2,e._compareStraight,LESS)\n",
    "h1 = [0,1,2,3,4]\n",
    "test2(h1,h2,e._compareStraight,LESS)\n",
    "h1 = [9,0,11,12,10]\n",
    "test2(h1,h2,e._compareStraight,GREATER)"
   ]
  },
  {
   "cell_type": "code",
   "execution_count": 9,
   "metadata": {},
   "outputs": [],
   "source": [
    "# FLUSH: same as high card..."
   ]
  },
  {
   "cell_type": "code",
   "execution_count": 10,
   "metadata": {},
   "outputs": [
    {
     "name": "stdout",
     "output_type": "stream",
     "text": [
      "\u001b[32mSuccess\u001b[0m\n",
      "\u001b[32mSuccess\u001b[0m\n"
     ]
    }
   ],
   "source": [
    "# FULL HOUSE\n",
    "h1 = [4,4,4,3,3]\n",
    "h2 = [3,3,3,9,9]\n",
    "test(h1,h2,GREATER,o=([(4,3),(3,2)],[(3,3),(9,2)]))\n",
    "\n",
    "h1 = [3,3,3,8,8]\n",
    "h2 = [3,3,3,9,9]\n",
    "test(h1,h2,LESS,o=([(3,3),(8,2)],[(3,3),(9,2)]))"
   ]
  },
  {
   "cell_type": "code",
   "execution_count": 11,
   "metadata": {},
   "outputs": [
    {
     "name": "stdout",
     "output_type": "stream",
     "text": [
      "\u001b[32mSuccess\u001b[0m\n",
      "\u001b[32mSuccess\u001b[0m\n"
     ]
    }
   ],
   "source": [
    "# FOUR OF A KIND\n",
    "h1 = [4,4,4,4,5]\n",
    "h2 = [4,4,4,4,9]\n",
    "test(h1,h2,LESS,o=([(4,4)],[(4,4)]))\n",
    "h1 = [4,4,4,4,5]\n",
    "h2 = [3,3,3,3,0]\n",
    "test(h1,h2,GREATER,o=([(4,4)],[(3,4)]))"
   ]
  },
  {
   "cell_type": "code",
   "execution_count": 12,
   "metadata": {},
   "outputs": [],
   "source": [
    "# STRAIGHT FLUSH: same as straight..."
   ]
  }
 ],
 "metadata": {
  "kernelspec": {
   "display_name": "Python 3.11.6 64-bit",
   "language": "python",
   "name": "python3"
  },
  "language_info": {
   "codemirror_mode": {
    "name": "ipython",
    "version": 3
   },
   "file_extension": ".py",
   "mimetype": "text/x-python",
   "name": "python",
   "nbconvert_exporter": "python",
   "pygments_lexer": "ipython3",
   "version": "3.11.6"
  },
  "orig_nbformat": 4,
  "vscode": {
   "interpreter": {
    "hash": "b0fa6594d8f4cbf19f97940f81e996739fb7646882a419484c72d19e05852a7e"
   }
  }
 },
 "nbformat": 4,
 "nbformat_minor": 2
}
