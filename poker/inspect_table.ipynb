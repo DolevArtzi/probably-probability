{
 "cells": [
  {
   "cell_type": "code",
   "execution_count": 1,
   "metadata": {},
   "outputs": [],
   "source": [
    "from game import Game\n",
    "\n",
    "g = Game(start=0,n=2)"
   ]
  },
  {
   "cell_type": "code",
   "execution_count": 2,
   "metadata": {},
   "outputs": [
    {
     "name": "stdout",
     "output_type": "stream",
     "text": [
      "2118760 2598960 5506572489600\n",
      "[<itertools.chain object at 0x1183a6bf0>] in combine prod iter. false\n",
      "[((15, 10), (13, 50, 35)), ((15, 43), (13, 50, 35)), ((15, 21), (13, 50, 35)), ((15, 46), (13, 50, 35)), ((15, 52), (13, 50, 35)), ((15, 27), (13, 50, 35)), ((15, 37), (13, 50, 35)), ((15, 36), (13, 50, 35)), ((15, 31), (13, 50, 35)), ((15, 20), (13, 50, 35)), ((15, 38), (13, 50, 35)), ((15, 48), (13, 50, 35)), ((15, 16), (13, 50, 35)), ((15, 32), (13, 50, 35)), ((15, 11), (13, 50, 35)), ((15, 26), (13, 50, 35)), ((15, 19), (13, 50, 35)), ((15, 8), (13, 50, 35)), ((15, 49), (13, 50, 35)), ((15, 6), (13, 50, 35))] in combine prod iter. false\n",
      "[(15, 10), (13, 50, 35), True] in combine prod iter. false\n",
      "[15, 10, True] in combine prod iter. false\n"
     ]
    },
    {
     "ename": "TypeError",
     "evalue": "Value after * must be an iterable, not int",
     "output_type": "error",
     "traceback": [
      "\u001b[0;31m---------------------------------------------------------------------------\u001b[0m",
      "\u001b[0;31mTypeError\u001b[0m                                 Traceback (most recent call last)",
      "Cell \u001b[0;32mIn[2], line 1\u001b[0m\n\u001b[0;32m----> 1\u001b[0m \u001b[43mg\u001b[49m\u001b[38;5;241;43m.\u001b[39;49m\u001b[43mstart\u001b[49m\u001b[43m(\u001b[49m\u001b[43m_display\u001b[49m\u001b[38;5;241;43m=\u001b[39;49m\u001b[38;5;241;43m1\u001b[39;49m\u001b[43m,\u001b[49m\u001b[43m_print\u001b[49m\u001b[38;5;241;43m=\u001b[39;49m\u001b[38;5;241;43m1\u001b[39;49m\u001b[43m)\u001b[49m\n",
      "File \u001b[0;32m~/PycharmProjects/probablyprobability/poker/game.py:30\u001b[0m, in \u001b[0;36mGame.start\u001b[0;34m(self, statMode, _print, _display, _sort)\u001b[0m\n\u001b[1;32m     27\u001b[0m \u001b[39mprint\u001b[39m(l1,l2,l1\u001b[39m*\u001b[39ml2)\n\u001b[1;32m     28\u001b[0m \u001b[39mself\u001b[39m\u001b[39m.\u001b[39mt\u001b[39m.\u001b[39mprogress()\n\u001b[0;32m---> 30\u001b[0m x \u001b[39m=\u001b[39m \u001b[39mself\u001b[39;49m\u001b[39m.\u001b[39;49me\u001b[39m.\u001b[39;49m_getOppCombos(\u001b[39mself\u001b[39;49m\u001b[39m.\u001b[39;49mt\u001b[39m.\u001b[39;49mplayers[\u001b[39m0\u001b[39;49m],\u001b[39mself\u001b[39;49m\u001b[39m.\u001b[39;49mt)\n\u001b[1;32m     31\u001b[0m y \u001b[39m=\u001b[39m \u001b[39mself\u001b[39m\u001b[39m.\u001b[39me\u001b[39m.\u001b[39m_getPlayerCombos(\u001b[39mself\u001b[39m\u001b[39m.\u001b[39mt\u001b[39m.\u001b[39mplayers[\u001b[39m0\u001b[39m],\u001b[39mself\u001b[39m\u001b[39m.\u001b[39mt)\n\u001b[1;32m     32\u001b[0m l1,l2 \u001b[39m=\u001b[39m \u001b[39mlen\u001b[39m(x),\u001b[39mlen\u001b[39m(y)\n",
      "File \u001b[0;32m~/PycharmProjects/probablyprobability/poker/eval.py:224\u001b[0m, in \u001b[0;36mEval._getOppCombos\u001b[0;34m(self, player, t)\u001b[0m\n\u001b[1;32m    222\u001b[0m op1 \u001b[39m=\u001b[39m comb(cards_on_table,\u001b[39m5\u001b[39m) \u001b[39mif\u001b[39;00m num_unknowns \u001b[39m==\u001b[39m \u001b[39m0\u001b[39m \u001b[39melse\u001b[39;00m \u001b[39mself\u001b[39m\u001b[39m.\u001b[39m_getMultiCombos(banks,c1)\n\u001b[1;32m    223\u001b[0m op2,op3 \u001b[39m=\u001b[39m \u001b[39mself\u001b[39m\u001b[39m.\u001b[39m_getMultiCombos(banks,c2),\u001b[39mself\u001b[39m\u001b[39m.\u001b[39m_getMultiCombos(banks,c3)\n\u001b[0;32m--> 224\u001b[0m \u001b[39mreturn\u001b[39;00m \u001b[39mself\u001b[39;49m\u001b[39m.\u001b[39;49m_combineProdIterator(chain(chain(op1,op2),op3))\n",
      "File \u001b[0;32m~/PycharmProjects/probablyprobability/poker/eval.py:167\u001b[0m, in \u001b[0;36mEval._combineProdIterator\u001b[0;34m(self, l, *iter)\u001b[0m\n\u001b[1;32m    165\u001b[0m l_iter \u001b[39m=\u001b[39m \u001b[39mlist\u001b[39m(\u001b[39miter\u001b[39m)\n\u001b[1;32m    166\u001b[0m \u001b[39mprint\u001b[39m(l_iter[:\u001b[39m20\u001b[39m],\u001b[39m'\u001b[39m\u001b[39min combine prod iter. false\u001b[39m\u001b[39m'\u001b[39m)\n\u001b[0;32m--> 167\u001b[0m l_iter \u001b[39m=\u001b[39m [\u001b[39mself\u001b[39;49m\u001b[39m.\u001b[39;49m_combineProdIterator(\u001b[39m*\u001b[39;49mh,\u001b[39mTrue\u001b[39;49;00m) \u001b[39mfor\u001b[39;49;00m h \u001b[39min\u001b[39;49;00m l_iter]\n\u001b[1;32m    168\u001b[0m \u001b[39mreturn\u001b[39;00m l_iter\n",
      "File \u001b[0;32m~/PycharmProjects/probablyprobability/poker/eval.py:167\u001b[0m, in \u001b[0;36m<listcomp>\u001b[0;34m(.0)\u001b[0m\n\u001b[1;32m    165\u001b[0m l_iter \u001b[39m=\u001b[39m \u001b[39mlist\u001b[39m(\u001b[39miter\u001b[39m)\n\u001b[1;32m    166\u001b[0m \u001b[39mprint\u001b[39m(l_iter[:\u001b[39m20\u001b[39m],\u001b[39m'\u001b[39m\u001b[39min combine prod iter. false\u001b[39m\u001b[39m'\u001b[39m)\n\u001b[0;32m--> 167\u001b[0m l_iter \u001b[39m=\u001b[39m [\u001b[39mself\u001b[39;49m\u001b[39m.\u001b[39;49m_combineProdIterator(\u001b[39m*\u001b[39;49mh,\u001b[39mTrue\u001b[39;49;00m) \u001b[39mfor\u001b[39;00m h \u001b[39min\u001b[39;00m l_iter]\n\u001b[1;32m    168\u001b[0m \u001b[39mreturn\u001b[39;00m l_iter\n",
      "File \u001b[0;32m~/PycharmProjects/probablyprobability/poker/eval.py:167\u001b[0m, in \u001b[0;36mEval._combineProdIterator\u001b[0;34m(self, l, *iter)\u001b[0m\n\u001b[1;32m    165\u001b[0m l_iter \u001b[39m=\u001b[39m \u001b[39mlist\u001b[39m(\u001b[39miter\u001b[39m)\n\u001b[1;32m    166\u001b[0m \u001b[39mprint\u001b[39m(l_iter[:\u001b[39m20\u001b[39m],\u001b[39m'\u001b[39m\u001b[39min combine prod iter. false\u001b[39m\u001b[39m'\u001b[39m)\n\u001b[0;32m--> 167\u001b[0m l_iter \u001b[39m=\u001b[39m [\u001b[39mself\u001b[39;49m\u001b[39m.\u001b[39;49m_combineProdIterator(\u001b[39m*\u001b[39;49mh,\u001b[39mTrue\u001b[39;49;00m) \u001b[39mfor\u001b[39;49;00m h \u001b[39min\u001b[39;49;00m l_iter]\n\u001b[1;32m    168\u001b[0m \u001b[39mreturn\u001b[39;00m l_iter\n",
      "File \u001b[0;32m~/PycharmProjects/probablyprobability/poker/eval.py:167\u001b[0m, in \u001b[0;36m<listcomp>\u001b[0;34m(.0)\u001b[0m\n\u001b[1;32m    165\u001b[0m l_iter \u001b[39m=\u001b[39m \u001b[39mlist\u001b[39m(\u001b[39miter\u001b[39m)\n\u001b[1;32m    166\u001b[0m \u001b[39mprint\u001b[39m(l_iter[:\u001b[39m20\u001b[39m],\u001b[39m'\u001b[39m\u001b[39min combine prod iter. false\u001b[39m\u001b[39m'\u001b[39m)\n\u001b[0;32m--> 167\u001b[0m l_iter \u001b[39m=\u001b[39m [\u001b[39mself\u001b[39;49m\u001b[39m.\u001b[39;49m_combineProdIterator(\u001b[39m*\u001b[39;49mh,\u001b[39mTrue\u001b[39;49;00m) \u001b[39mfor\u001b[39;00m h \u001b[39min\u001b[39;00m l_iter]\n\u001b[1;32m    168\u001b[0m \u001b[39mreturn\u001b[39;00m l_iter\n",
      "    \u001b[0;31m[... skipping similar frames: <listcomp> at line 167 (1 times), Eval._combineProdIterator at line 167 (1 times)]\u001b[0m\n",
      "File \u001b[0;32m~/PycharmProjects/probablyprobability/poker/eval.py:167\u001b[0m, in \u001b[0;36mEval._combineProdIterator\u001b[0;34m(self, l, *iter)\u001b[0m\n\u001b[1;32m    165\u001b[0m l_iter \u001b[39m=\u001b[39m \u001b[39mlist\u001b[39m(\u001b[39miter\u001b[39m)\n\u001b[1;32m    166\u001b[0m \u001b[39mprint\u001b[39m(l_iter[:\u001b[39m20\u001b[39m],\u001b[39m'\u001b[39m\u001b[39min combine prod iter. false\u001b[39m\u001b[39m'\u001b[39m)\n\u001b[0;32m--> 167\u001b[0m l_iter \u001b[39m=\u001b[39m [\u001b[39mself\u001b[39;49m\u001b[39m.\u001b[39;49m_combineProdIterator(\u001b[39m*\u001b[39;49mh,\u001b[39mTrue\u001b[39;49;00m) \u001b[39mfor\u001b[39;49;00m h \u001b[39min\u001b[39;49;00m l_iter]\n\u001b[1;32m    168\u001b[0m \u001b[39mreturn\u001b[39;00m l_iter\n",
      "File \u001b[0;32m~/PycharmProjects/probablyprobability/poker/eval.py:167\u001b[0m, in \u001b[0;36m<listcomp>\u001b[0;34m(.0)\u001b[0m\n\u001b[1;32m    165\u001b[0m l_iter \u001b[39m=\u001b[39m \u001b[39mlist\u001b[39m(\u001b[39miter\u001b[39m)\n\u001b[1;32m    166\u001b[0m \u001b[39mprint\u001b[39m(l_iter[:\u001b[39m20\u001b[39m],\u001b[39m'\u001b[39m\u001b[39min combine prod iter. false\u001b[39m\u001b[39m'\u001b[39m)\n\u001b[0;32m--> 167\u001b[0m l_iter \u001b[39m=\u001b[39m [\u001b[39mself\u001b[39m\u001b[39m.\u001b[39m_combineProdIterator(\u001b[39m*\u001b[39mh,\u001b[39mTrue\u001b[39;00m) \u001b[39mfor\u001b[39;00m h \u001b[39min\u001b[39;00m l_iter]\n\u001b[1;32m    168\u001b[0m \u001b[39mreturn\u001b[39;00m l_iter\n",
      "\u001b[0;31mTypeError\u001b[0m: Value after * must be an iterable, not int"
     ]
    }
   ],
   "source": [
    "g.start(_display=1,_print=1)"
   ]
  },
  {
   "cell_type": "code",
   "execution_count": null,
   "metadata": {},
   "outputs": [],
   "source": [
    "from itertools import product as p \n",
    "from itertools import combinations as c\n",
    "from itertools import chain\n",
    "g.e._combineProdIterator(p(c([1],1),c([4,5],1)))"
   ]
  },
  {
   "cell_type": "code",
   "execution_count": 31,
   "metadata": {},
   "outputs": [
    {
     "ename": "TypeError",
     "evalue": "print() argument after * must be an iterable, not int",
     "output_type": "error",
     "traceback": [
      "\u001b[0;31m---------------------------------------------------------------------------\u001b[0m",
      "\u001b[0;31mTypeError\u001b[0m                                 Traceback (most recent call last)",
      "Cell \u001b[0;32mIn[31], line 5\u001b[0m\n\u001b[1;32m      3\u001b[0m     \u001b[38;5;28;01mfor\u001b[39;00m aa \u001b[38;5;129;01min\u001b[39;00m a:\n\u001b[1;32m      4\u001b[0m         \u001b[38;5;28mprint\u001b[39m(\u001b[38;5;241m*\u001b[39maa)\n\u001b[0;32m----> 5\u001b[0m \u001b[43m[\u001b[49m\u001b[43mz\u001b[49m\u001b[43m(\u001b[49m\u001b[38;5;241;43m*\u001b[39;49m\u001b[43my\u001b[49m\u001b[43m)\u001b[49m\u001b[43m \u001b[49m\u001b[38;5;28;43;01mfor\u001b[39;49;00m\u001b[43m \u001b[49m\u001b[43my\u001b[49m\u001b[43m \u001b[49m\u001b[38;5;129;43;01min\u001b[39;49;00m\u001b[43m \u001b[49m\u001b[43mx\u001b[49m\u001b[43m]\u001b[49m\n",
      "Cell \u001b[0;32mIn[31], line 5\u001b[0m, in \u001b[0;36m<listcomp>\u001b[0;34m(.0)\u001b[0m\n\u001b[1;32m      3\u001b[0m     \u001b[38;5;28;01mfor\u001b[39;00m aa \u001b[38;5;129;01min\u001b[39;00m a:\n\u001b[1;32m      4\u001b[0m         \u001b[38;5;28mprint\u001b[39m(\u001b[38;5;241m*\u001b[39maa)\n\u001b[0;32m----> 5\u001b[0m [\u001b[43mz\u001b[49m\u001b[43m(\u001b[49m\u001b[38;5;241;43m*\u001b[39;49m\u001b[43my\u001b[49m\u001b[43m)\u001b[49m \u001b[38;5;28;01mfor\u001b[39;00m y \u001b[38;5;129;01min\u001b[39;00m x]\n",
      "Cell \u001b[0;32mIn[31], line 4\u001b[0m, in \u001b[0;36mz\u001b[0;34m(*a)\u001b[0m\n\u001b[1;32m      2\u001b[0m \u001b[38;5;28;01mdef\u001b[39;00m \u001b[38;5;21mz\u001b[39m(\u001b[38;5;241m*\u001b[39ma):\n\u001b[1;32m      3\u001b[0m     \u001b[38;5;28;01mfor\u001b[39;00m aa \u001b[38;5;129;01min\u001b[39;00m a:\n\u001b[0;32m----> 4\u001b[0m         \u001b[38;5;28;43mprint\u001b[39;49m\u001b[43m(\u001b[49m\u001b[38;5;241;43m*\u001b[39;49m\u001b[43maa\u001b[49m\u001b[43m)\u001b[49m\n",
      "\u001b[0;31mTypeError\u001b[0m: print() argument after * must be an iterable, not int"
     ]
    }
   ],
   "source": [
    "x = [(1,2,3),(4,5,6),((8,),(7,))]\n",
    "def z(*a):\n",
    "    for aa in a:\n",
    "        print(*aa if not aa.is_integer() else aa)\n",
    "[z(*y) for y in x]\n"
   ]
  },
  {
   "cell_type": "code",
   "execution_count": null,
   "metadata": {},
   "outputs": [],
   "source": []
  }
 ],
 "metadata": {
  "kernelspec": {
   "display_name": "Python 3.11.6 64-bit",
   "language": "python",
   "name": "python3"
  },
  "language_info": {
   "codemirror_mode": {
    "name": "ipython",
    "version": 3
   },
   "file_extension": ".py",
   "mimetype": "text/x-python",
   "name": "python",
   "nbconvert_exporter": "python",
   "pygments_lexer": "ipython3",
   "version": "3.11.6"
  },
  "orig_nbformat": 4,
  "vscode": {
   "interpreter": {
    "hash": "b0fa6594d8f4cbf19f97940f81e996739fb7646882a419484c72d19e05852a7e"
   }
  }
 },
 "nbformat": 4,
 "nbformat_minor": 2
}
