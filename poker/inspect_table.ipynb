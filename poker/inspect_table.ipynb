{
 "cells": [
  {
   "cell_type": "code",
   "execution_count": null,
   "metadata": {},
   "outputs": [],
   "source": [
    "from game import Game\n",
    "\n",
    "g = Game(start=0,n=2)"
   ]
  },
  {
   "cell_type": "code",
   "execution_count": null,
   "metadata": {},
   "outputs": [],
   "source": [
    "g.start(_display=1,_print=1)"
   ]
  },
  {
   "cell_type": "code",
   "execution_count": null,
   "metadata": {},
   "outputs": [],
   "source": [
    "from itertools import product as p \n",
    "from itertools import combinations as c\n",
    "from itertools import chain\n",
    "g.e._combineProdIterator(p(c([1],1),c([4,5],1)))"
   ]
  },
  {
   "cell_type": "code",
   "execution_count": null,
   "metadata": {},
   "outputs": [],
   "source": [
    "x = ((8,),(7,))\n",
    "def z(*a):\n",
    "    for aa in a:\n",
    "        print(aa )\n",
    "[z(*y) for y in x]\n"
   ]
  },
  {
   "cell_type": "code",
   "execution_count": null,
   "metadata": {},
   "outputs": [],
   "source": [
    "int((6,))"
   ]
  },
  {
   "cell_type": "code",
   "execution_count": null,
   "metadata": {},
   "outputs": [],
   "source": [
    "from combiner import FNode\n",
    "c = FNode(f='comb',children=[[[1,2,3],2]])"
   ]
  },
  {
   "cell_type": "code",
   "execution_count": null,
   "metadata": {},
   "outputs": [],
   "source": [
    "c.children"
   ]
  },
  {
   "cell_type": "code",
   "execution_count": null,
   "metadata": {},
   "outputs": [],
   "source": [
    "c.treeApply()\n",
    "c.children"
   ]
  },
  {
   "cell_type": "code",
   "execution_count": null,
   "metadata": {},
   "outputs": [],
   "source": [
    "import itertools\n",
    "comb = itertools.combinations\n",
    "prod = itertools.product\n",
    "chain = itertools.chain\n",
    "COMB = 'comb'\n",
    "PROD = 'prod'\n",
    "CHAIN = 'chain'\n",
    "COMBPROD = 'combprod'\n",
    "COMBCHAIN = 'combchain'\n",
    "f_map = {COMB:comb,PROD:prod,CHAIN:chain}\n",
    "FNode\n",
    "\n",
    "def foo():\n",
    "    cot = []\n",
    "    hand = []\n",
    "    bank = []\n",
    "    lhs = FNode(f=COMB,children=[[cot,3]])\n",
    "    rhs1= FNode(f=COMB,children=[hand,2])\n",
    "    rhs2 = FNode(f=COMBPROD,children=[[hand,1],[bank,1]])\n",
    "    rhs3 = FNode(f=COMB,children=[bank,2])\n",
    "    rhs = FNode(f=CHAIN,children=[rhs1,rhs2,rhs3])\n",
    "    x = FNode(f=PROD,children=[lhs,rhs])\n",
    "\n",
    "def foo2():\n",
    "    cot = []\n",
    "    hand = []\n",
    "    bank = []\n",
    "    lhs = FNode(f=COMB,children=[cot,2])\n",
    "    rhs = FNode(f=CHAIN,children=[FNode(f=COMBPROD,children=[[hand,2],[bank,1]]),FNode(f=COMBPROD,children=[[hand,1],[bank,2]])])\n",
    "    x = FNode(f=PROD,children=[lhs,rhs])\n",
    "\n",
    "def foo3():\n",
    "    cot = []\n",
    "    hand = []\n",
    "    bank = []\n",
    "    lhs = FNode(f=COMB,children=[cot,1])\n",
    "    rhs = FNode(f=COMBPROD,children=[[[hand,2],[bank,1]],[hand,1],[bank,2]])\n",
    "    x = FNode(f=PROD,children=[lhs,rhs])\n",
    "\n",
    "def foo4():\n",
    "    cot = []\n",
    "    hand = []\n",
    "    bank = []\n",
    "    lhs = FNode(f=COMB,children=[[cot,5]])\n",
    "\n"
   ]
  },
  {
   "cell_type": "code",
   "execution_count": null,
   "metadata": {},
   "outputs": [],
   "source": [
    "from combiner import FNode\n",
    "COMB = 'comb'\n",
    "c = FNode(f='comb',children=[[1,2,3],2])\n",
    "x = c.treeApply()\n",
    "list(x)"
   ]
  },
  {
   "cell_type": "code",
   "execution_count": null,
   "metadata": {},
   "outputs": [],
   "source": [
    "from itertools import combinations as comb\n",
    "from itertools import product as prod"
   ]
  },
  {
   "cell_type": "code",
   "execution_count": null,
   "metadata": {},
   "outputs": [],
   "source": [
    "c1 = comb([1,2],1)\n",
    "c2 = comb([3,4],2)\n",
    "# x = list(c1)\n",
    "# y = list(c2)\n",
    "# print(x)\n",
    "# print(y)\n",
    "\n",
    "# [(1,), (2,)]\n",
    "# [(3, 4)]\n",
    "\n",
    "\n",
    "cc = FNode(f='chain',children=[c1,c2])\n",
    "[list(z) for z in cc.children]"
   ]
  },
  {
   "cell_type": "code",
   "execution_count": null,
   "metadata": {},
   "outputs": [],
   "source": [
    "\n",
    "c = FNode(f='prod',children=[c1,c2])\n",
    "x = c.treeApply()\n",
    "# print(list(x[0]),len(x))\n",
    "# list(x)\n",
    "list(x[0].children),'x'"
   ]
  },
  {
   "cell_type": "code",
   "execution_count": 1,
   "metadata": {},
   "outputs": [
    {
     "name": "stdout",
     "output_type": "stream",
     "text": [
      "[[1, 2, 3], 2] comb\n"
     ]
    },
    {
     "data": {
      "text/plain": [
       "[(1, 2), (1, 3), (2, 3)]"
      ]
     },
     "execution_count": 1,
     "metadata": {},
     "output_type": "execute_result"
    }
   ],
   "source": [
    "from combiner import FNode\n",
    "COMB = 'comb'\n",
    "c = FNode(f='comb',children=[[1,2,3],2])\n",
    "c2 = FNode(f='comb',children=[[4,5],2])\n",
    "x = c.treeApply()\n",
    "\n",
    "list(x)\n",
    "# c3 = FNode(f='chain',children=[[1,2],[3,4]])\n",
    "# xx = c3.treeApply()\n",
    "# list(xx)\n",
    "# # y = xx[0]\n",
    "# # for z in y:\n",
    "# #     print(z)\n",
    "# print(type(y))"
   ]
  },
  {
   "cell_type": "code",
   "execution_count": 2,
   "metadata": {},
   "outputs": [
    {
     "name": "stdout",
     "output_type": "stream",
     "text": [
      "[[1, 2], 1] comb\n",
      "[[3, 4], 2] comb\n"
     ]
    },
    {
     "data": {
      "text/plain": [
       "[[3, 4, 1], [3, 4, 2]]"
      ]
     },
     "execution_count": 2,
     "metadata": {},
     "output_type": "execute_result"
    }
   ],
   "source": [
    "a = FNode(f='comb',children=[[1,2],1]).treeApply()\n",
    "b = FNode(f='comb',children=[[3,4],2]).treeApply()\n",
    "c = FNode(f='prod',children=[a,b])\n",
    "# print(list(a),list(b))\n",
    "x = c.treeApply()\n",
    "x"
   ]
  },
  {
   "cell_type": "code",
   "execution_count": null,
   "metadata": {},
   "outputs": [],
   "source": []
  },
  {
   "cell_type": "code",
   "execution_count": null,
   "metadata": {},
   "outputs": [],
   "source": [
    "c = comb([1,2],1)\n",
    "c2 = comb([3,4],2)\n",
    "c3 = prod(c,c2)\n",
    "# for y in c3:\n",
    "#     print(y)\n",
    "\n",
    "# ((1,), (3, 4))\n",
    "# ((2,), (3, 4))\n",
    "\n",
    "# def func(*a):\n",
    "#     for x in a:\n",
    "#         print('x',list(x))\n",
    "# func(list(list(c3)[0]))\n",
    "# x = list(c3)\n",
    "# x\n",
    "for x in c3:\n",
    "    l = []\n",
    "    for y in x:\n",
    "        l.extend(list(y))\n",
    "    rr = FNode(f='chain',children=l)\n",
    "    print(rr.children)"
   ]
  },
  {
   "cell_type": "code",
   "execution_count": null,
   "metadata": {},
   "outputs": [],
   "source": [
    "class p:\n",
    "    def __init__(self):\n",
    "        self.x = [[[1, 2, 3], 2]]\n",
    "def f(*a):\n",
    "    for y in a:\n",
    "        print(y)\n",
    "ZZ = p()\n",
    "f(*ZZ.x[0])"
   ]
  },
  {
   "cell_type": "code",
   "execution_count": null,
   "metadata": {},
   "outputs": [],
   "source": [
    "l = [1]\n",
    "l.append(1,2,3)"
   ]
  },
  {
   "cell_type": "code",
   "execution_count": null,
   "metadata": {},
   "outputs": [],
   "source": [
    "# _________________"
   ]
  },
  {
   "cell_type": "code",
   "execution_count": null,
   "metadata": {},
   "outputs": [],
   "source": []
  }
 ],
 "metadata": {
  "kernelspec": {
   "display_name": "Python 3.11.6 64-bit",
   "language": "python",
   "name": "python3"
  },
  "language_info": {
   "codemirror_mode": {
    "name": "ipython",
    "version": 3
   },
   "file_extension": ".py",
   "mimetype": "text/x-python",
   "name": "python",
   "nbconvert_exporter": "python",
   "pygments_lexer": "ipython3",
   "version": "3.11.6"
  },
  "orig_nbformat": 4,
  "vscode": {
   "interpreter": {
    "hash": "b0fa6594d8f4cbf19f97940f81e996739fb7646882a419484c72d19e05852a7e"
   }
  }
 },
 "nbformat": 4,
 "nbformat_minor": 2
}
