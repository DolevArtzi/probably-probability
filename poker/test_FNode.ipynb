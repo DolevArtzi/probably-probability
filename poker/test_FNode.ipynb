{
 "cells": [
  {
   "cell_type": "code",
   "execution_count": 1,
   "metadata": {},
   "outputs": [],
   "source": [
    "from combiner import FNode\n",
    "COMB = 'comb'\n",
    "PROD = 'prod'\n",
    "CHAIN = 'chain'\n",
    "COMBPROD = 'combprod'\n",
    "COMBCHAIN = 'combchain'"
   ]
  },
  {
   "cell_type": "code",
   "execution_count": 4,
   "metadata": {},
   "outputs": [
    {
     "name": "stdout",
     "output_type": "stream",
     "text": [
      "[[1, 2, 3, 4], 2] comb\n"
     ]
    },
    {
     "data": {
      "text/plain": [
       "[(1, 2), (1, 3), (1, 4), (2, 3), (2, 4), (3, 4)]"
      ]
     },
     "execution_count": 4,
     "metadata": {},
     "output_type": "execute_result"
    }
   ],
   "source": [
    "# Combinations \n",
    "c = FNode(f=COMB,children=[[1,2,3,4],2])\n",
    "c.treeApply()"
   ]
  },
  {
   "cell_type": "code",
   "execution_count": 8,
   "metadata": {},
   "outputs": [
    {
     "data": {
      "text/plain": [
       "[4, 5, 1, 2, 3]"
      ]
     },
     "execution_count": 8,
     "metadata": {},
     "output_type": "execute_result"
    }
   ],
   "source": [
    "# Chain\n",
    "c = FNode(f=CHAIN,children=[[1,2,3],[4,5]])\n",
    "c.treeApply()"
   ]
  },
  {
   "cell_type": "code",
   "execution_count": 9,
   "metadata": {},
   "outputs": [
    {
     "data": {
      "text/plain": [
       "[[4, 5, 6, 1, 2], [4, 5, 6, 3, 4], [7, 8, 9, 1, 2], [7, 8, 9, 3, 4]]"
      ]
     },
     "execution_count": 9,
     "metadata": {},
     "output_type": "execute_result"
    }
   ],
   "source": [
    "# Product\n",
    "c = FNode(f=PROD,children=[[(1,2),(3,4)],[(4,5,6),(7,8,9)]])\n",
    "c.treeApply()"
   ]
  },
  {
   "cell_type": "code",
   "execution_count": 2,
   "metadata": {},
   "outputs": [
    {
     "name": "stdout",
     "output_type": "stream",
     "text": [
      "[[1, 2], 1] comb\n",
      "[[3, 4, 5], 2] comb\n"
     ]
    },
    {
     "data": {
      "text/plain": [
       "[[3, 4, 1], [3, 4, 2], [3, 5, 1], [3, 5, 2], [4, 5, 1], [4, 5, 2]]"
      ]
     },
     "execution_count": 2,
     "metadata": {},
     "output_type": "execute_result"
    }
   ],
   "source": [
    "# Combprod\n",
    "c = FNode(f=COMBPROD,children=[[[1,2],1],[[3,4,5],2]])\n",
    "c.treeApply()"
   ]
  },
  {
   "cell_type": "code",
   "execution_count": 6,
   "metadata": {},
   "outputs": [
    {
     "name": "stdout",
     "output_type": "stream",
     "text": [
      "[[1, 2], 2] comb\n",
      "[[3, 4, 5], 2] comb\n"
     ]
    },
    {
     "data": {
      "text/plain": [
       "[(3, 4), (3, 5), (4, 5), (1, 2)]"
      ]
     },
     "execution_count": 6,
     "metadata": {},
     "output_type": "execute_result"
    }
   ],
   "source": [
    "# Combchain\n",
    "c = FNode(f=COMBCHAIN,children=[[[1,2],2],[[3,4,5],2]])\n",
    "c.treeApply()"
   ]
  }
 ],
 "metadata": {
  "kernelspec": {
   "display_name": "Python 3.11.6 64-bit",
   "language": "python",
   "name": "python3"
  },
  "language_info": {
   "codemirror_mode": {
    "name": "ipython",
    "version": 3
   },
   "file_extension": ".py",
   "mimetype": "text/x-python",
   "name": "python",
   "nbconvert_exporter": "python",
   "pygments_lexer": "ipython3",
   "version": "3.11.6"
  },
  "orig_nbformat": 4,
  "vscode": {
   "interpreter": {
    "hash": "b0fa6594d8f4cbf19f97940f81e996739fb7646882a419484c72d19e05852a7e"
   }
  }
 },
 "nbformat": 4,
 "nbformat_minor": 2
}
