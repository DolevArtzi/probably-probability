{
 "cells": [
  {
   "cell_type": "markdown",
   "metadata": {},
   "source": [
    "### Free Throw Problem Variants\n",
    "1. 0.65% chance, independently, for 20 free throws\n",
    "2. +2.5% chance each make, no reset, start at 50%\n",
    "3. +2.5% chance each make, with reset to 50% on miss \n",
    "4. \\+ or - 2.5% each make or miss, start at 50%"
   ]
  },
  {
   "cell_type": "code",
   "execution_count": 1,
   "metadata": {},
   "outputs": [
    {
     "name": "stdout",
     "output_type": "stream",
     "text": [
      "Binomial(20,0.65): Average = 12.99965  Sample Variance =  4.55082\n"
     ]
    }
   ],
   "source": [
    "# formulation 1\n",
    "from Binomial import Binomial\n",
    "\n",
    "T = Binomial(n=20,p=0.65)\n",
    "_ = T.simulate(1_000_000) #simulating 1e6 iterations"
   ]
  },
  {
   "cell_type": "code",
   "execution_count": 1,
   "metadata": {},
   "outputs": [],
   "source": [
    "from tqdm import tqdm"
   ]
  },
  {
   "cell_type": "code",
   "execution_count": 2,
   "metadata": {},
   "outputs": [
    {
     "name": "stderr",
     "output_type": "stream",
     "text": [
      "100%|██████████| 1000000/1000000 [00:05<00:00, 168337.99it/s]\n"
     ]
    },
    {
     "data": {
      "text/plain": [
       "(12.771519, 7.5920794326684256)"
      ]
     },
     "execution_count": 2,
     "metadata": {},
     "output_type": "execute_result"
    }
   ],
   "source": [
    "#formulation 2\n",
    "from Bernoulli import Bernoulli\n",
    "from mathutil import avgVar\n",
    "\n",
    "def sim():\n",
    "    p = 0.5\n",
    "    made = 0\n",
    "    for _ in range(20):\n",
    "        if Bernoulli(p).genVar():\n",
    "            made += 1\n",
    "            p += 0.025\n",
    "    return made\n",
    "data = [sim() for _ in tqdm(range(1_000_000))]\n",
    "avgVar(data)"
   ]
  },
  {
   "cell_type": "code",
   "execution_count": 4,
   "metadata": {},
   "outputs": [
    {
     "name": "stderr",
     "output_type": "stream",
     "text": [
      "100%|██████████| 1000000/1000000 [00:06<00:00, 161279.78it/s]\n"
     ]
    },
    {
     "data": {
      "text/plain": [
       "(10.568423, 6.458858293056434)"
      ]
     },
     "execution_count": 4,
     "metadata": {},
     "output_type": "execute_result"
    }
   ],
   "source": [
    "#formulation 3\n",
    "from Bernoulli import Bernoulli\n",
    "from mathutil import avgVar\n",
    "\n",
    "def sim():\n",
    "    p = 0.5\n",
    "    made = 0\n",
    "    for _ in range(20):\n",
    "        if Bernoulli(p).genVar():\n",
    "            made += 1\n",
    "            p += 0.025\n",
    "        else:\n",
    "            p = 0.5\n",
    "    return made\n",
    "data = [sim() for _ in tqdm(range(1_000_000))]\n",
    "avgVar(data)"
   ]
  },
  {
   "cell_type": "code",
   "execution_count": 6,
   "metadata": {},
   "outputs": [
    {
     "name": "stderr",
     "output_type": "stream",
     "text": [
      "100%|██████████| 1000000/1000000 [00:06<00:00, 163400.62it/s]\n"
     ]
    },
    {
     "data": {
      "text/plain": [
       "(10.003949, 14.34402540542177)"
      ]
     },
     "execution_count": 6,
     "metadata": {},
     "output_type": "execute_result"
    }
   ],
   "source": [
    "#formulation 4\n",
    "from Bernoulli import Bernoulli\n",
    "from mathutil import avgVar\n",
    "\n",
    "def sim():\n",
    "    p = 0.5\n",
    "    made = 0\n",
    "    for _ in range(20):\n",
    "        if Bernoulli(p).genVar():\n",
    "            made += 1\n",
    "            p += 0.025\n",
    "        else:\n",
    "            p -= 0.025\n",
    "    return made\n",
    "data = [sim() for _ in tqdm(range(1_000_000))]\n",
    "avgVar(data)"
   ]
  }
 ],
 "metadata": {
  "kernelspec": {
   "display_name": "Python 3.11.6 64-bit",
   "language": "python",
   "name": "python3"
  },
  "language_info": {
   "codemirror_mode": {
    "name": "ipython",
    "version": 3
   },
   "file_extension": ".py",
   "mimetype": "text/x-python",
   "name": "python",
   "nbconvert_exporter": "python",
   "pygments_lexer": "ipython3",
   "version": "3.11.6"
  },
  "orig_nbformat": 4,
  "vscode": {
   "interpreter": {
    "hash": "b0fa6594d8f4cbf19f97940f81e996739fb7646882a419484c72d19e05852a7e"
   }
  }
 },
 "nbformat": 4,
 "nbformat_minor": 2
}
